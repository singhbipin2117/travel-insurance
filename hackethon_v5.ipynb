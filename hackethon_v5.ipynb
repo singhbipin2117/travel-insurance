{
  "nbformat": 4,
  "nbformat_minor": 0,
  "metadata": {
    "kernelspec": {
      "display_name": "Python 3",
      "language": "python",
      "name": "python3"
    },
    "language_info": {
      "codemirror_mode": {
        "name": "ipython",
        "version": 3
      },
      "file_extension": ".py",
      "mimetype": "text/x-python",
      "name": "python",
      "nbconvert_exporter": "python",
      "pygments_lexer": "ipython3",
      "version": "3.7.3"
    },
    "colab": {
      "name": "hackethon_v5.ipynb",
      "provenance": [],
      "include_colab_link": true
    }
  },
  "cells": [
    {
      "cell_type": "markdown",
      "metadata": {
        "id": "view-in-github",
        "colab_type": "text"
      },
      "source": [
        "<a href=\"https://colab.research.google.com/github/singhbipin2117/travel-insurance/blob/master/hackethon_v5.ipynb\" target=\"_parent\"><img src=\"https://colab.research.google.com/assets/colab-badge.svg\" alt=\"Open In Colab\"/></a>"
      ]
    },
    {
      "cell_type": "code",
      "metadata": {
        "id": "BVQ8RTbIWZPO",
        "colab_type": "code",
        "colab": {}
      },
      "source": [
        "# loading packages"
      ],
      "execution_count": 0,
      "outputs": []
    },
    {
      "cell_type": "code",
      "metadata": {
        "id": "zTxnHJHBWZPW",
        "colab_type": "code",
        "colab": {}
      },
      "source": [
        "import pandas as pd\n",
        "import numpy as np\n",
        "import warnings\n",
        "warnings.filterwarnings('ignore')"
      ],
      "execution_count": 0,
      "outputs": []
    },
    {
      "cell_type": "code",
      "metadata": {
        "id": "9wZtbpBKWZPf",
        "colab_type": "code",
        "colab": {}
      },
      "source": [
        "# loading csv files"
      ],
      "execution_count": 0,
      "outputs": []
    },
    {
      "cell_type": "code",
      "metadata": {
        "id": "yQ8uMQs1WZPp",
        "colab_type": "code",
        "colab": {}
      },
      "source": [
        "df_train = pd.read_csv('train.csv')\n",
        "df_test = pd.read_csv('test.csv')"
      ],
      "execution_count": 0,
      "outputs": []
    },
    {
      "cell_type": "code",
      "metadata": {
        "id": "iWzLByiYWZPv",
        "colab_type": "code",
        "colab": {}
      },
      "source": [
        "df_test_new = df_test.copy()"
      ],
      "execution_count": 0,
      "outputs": []
    },
    {
      "cell_type": "code",
      "metadata": {
        "id": "OEalfcg2WZP3",
        "colab_type": "code",
        "outputId": "d666f645-2d3a-4a19-b35d-627e34c58711",
        "colab": {
          "base_uri": "https://localhost:8080/",
          "height": 225
        }
      },
      "source": [
        "#list of columns\n",
        "df_train.columns.to_list()"
      ],
      "execution_count": 0,
      "outputs": [
        {
          "output_type": "execute_result",
          "data": {
            "text/plain": [
              "['ID',\n",
              " 'Agency',\n",
              " 'Agency Type',\n",
              " 'Distribution Channel',\n",
              " 'Product Name',\n",
              " 'Claim',\n",
              " 'Duration',\n",
              " 'Destination',\n",
              " 'Net Sales',\n",
              " 'Commision (in value)',\n",
              " 'Gender',\n",
              " 'Age']"
            ]
          },
          "metadata": {
            "tags": []
          },
          "execution_count": 9
        }
      ]
    },
    {
      "cell_type": "code",
      "metadata": {
        "id": "BY77MZ5jWZQB",
        "colab_type": "code",
        "colab": {}
      },
      "source": [
        "#droppinf ID column\n",
        "df_train.drop([\"ID\"],1,inplace=True)"
      ],
      "execution_count": 0,
      "outputs": []
    },
    {
      "cell_type": "code",
      "metadata": {
        "id": "R1aBdsg2WZQI",
        "colab_type": "code",
        "outputId": "7b9d98b0-63c1-4c55-e388-364e67d42076",
        "colab": {
          "base_uri": "https://localhost:8080/",
          "height": 208
        }
      },
      "source": [
        "#printing column names\n",
        "df_train.columns.to_list()"
      ],
      "execution_count": 0,
      "outputs": [
        {
          "output_type": "execute_result",
          "data": {
            "text/plain": [
              "['Agency',\n",
              " 'Agency Type',\n",
              " 'Distribution Channel',\n",
              " 'Product Name',\n",
              " 'Claim',\n",
              " 'Duration',\n",
              " 'Destination',\n",
              " 'Net Sales',\n",
              " 'Commision (in value)',\n",
              " 'Gender',\n",
              " 'Age']"
            ]
          },
          "metadata": {
            "tags": []
          },
          "execution_count": 11
        }
      ]
    },
    {
      "cell_type": "code",
      "metadata": {
        "id": "xia2pveTWZQM",
        "colab_type": "code",
        "colab": {}
      },
      "source": [
        "#getting target variable in Y variable\n",
        "y_train = df_train[[\"Claim\"]]"
      ],
      "execution_count": 0,
      "outputs": []
    },
    {
      "cell_type": "code",
      "metadata": {
        "id": "n0ZbEHqHWZQR",
        "colab_type": "code",
        "colab": {}
      },
      "source": [
        "#dropping Claim column from input features\n",
        "df_train.drop([\"Claim\"],1,inplace=True)"
      ],
      "execution_count": 0,
      "outputs": []
    },
    {
      "cell_type": "code",
      "metadata": {
        "id": "I-TvhZ9qWZQV",
        "colab_type": "code",
        "colab": {}
      },
      "source": [
        "# import seaborn\n",
        "import seaborn as sns\n",
        "import matplotlib.pyplot as plt"
      ],
      "execution_count": 0,
      "outputs": []
    },
    {
      "cell_type": "code",
      "metadata": {
        "id": "sLUhOTD_WZQb",
        "colab_type": "code",
        "outputId": "4f9be5e6-d4d5-4540-c182-d95e49828f35",
        "colab": {
          "base_uri": "https://localhost:8080/",
          "height": 367
        }
      },
      "source": [
        "#plot count plot of Claim variable\n",
        "plt.figure(figsize=(5,5))\n",
        "ax = sns.countplot(x=\"Claim\", data=y_train)\n",
        "plt.title('Distribution of Claim')\n",
        "plt.xlabel('Number of Claim')"
      ],
      "execution_count": 0,
      "outputs": [
        {
          "output_type": "execute_result",
          "data": {
            "text/plain": [
              "Text(0.5, 0, 'Number of Claim')"
            ]
          },
          "metadata": {
            "tags": []
          },
          "execution_count": 15
        },
        {
          "output_type": "display_data",
          "data": {
            "image/png": "[encoded data removed]",
            "text/plain": [
              "<Figure size 360x360 with 1 Axes>"
            ]
          },
          "metadata": {
            "tags": []
          }
        }
      ]
    },
    {
      "cell_type": "code",
      "metadata": {
        "id": "6lIwUP04WZQf",
        "colab_type": "code",
        "colab": {}
      },
      "source": [
        "# bylooking count plot we can see that there is clss imbalance in dataset"
      ],
      "execution_count": 0,
      "outputs": []
    },
    {
      "cell_type": "code",
      "metadata": {
        "id": "r789Wd_eWZQk",
        "colab_type": "code",
        "outputId": "592f04f9-8af7-411a-d82c-fae3f4dd3ab5",
        "colab": {
          "base_uri": "https://localhost:8080/",
          "height": 35
        }
      },
      "source": [
        "# train data size\n",
        "df_train.shape"
      ],
      "execution_count": 0,
      "outputs": [
        {
          "output_type": "execute_result",
          "data": {
            "text/plain": [
              "(50553, 10)"
            ]
          },
          "metadata": {
            "tags": []
          },
          "execution_count": 17
        }
      ]
    },
    {
      "cell_type": "code",
      "metadata": {
        "id": "NnnlQPUkWZQp",
        "colab_type": "code",
        "outputId": "b12ffea3-7dbc-43fa-b23f-efb1c72359ae",
        "colab": {
          "base_uri": "https://localhost:8080/",
          "height": 208
        }
      },
      "source": [
        "#dataypes\n",
        "df_train.dtypes"
      ],
      "execution_count": 0,
      "outputs": [
        {
          "output_type": "execute_result",
          "data": {
            "text/plain": [
              "Agency                   object\n",
              "Agency Type              object\n",
              "Distribution Channel     object\n",
              "Product Name             object\n",
              "Duration                  int64\n",
              "Destination              object\n",
              "Net Sales               float64\n",
              "Commision (in value)    float64\n",
              "Gender                   object\n",
              "Age                       int64\n",
              "dtype: object"
            ]
          },
          "metadata": {
            "tags": []
          },
          "execution_count": 18
        }
      ]
    },
    {
      "cell_type": "code",
      "metadata": {
        "id": "dkuiVIWCWZQw",
        "colab_type": "code",
        "outputId": "e2a5ad72-83c5-4302-ca6b-0599f0743355",
        "colab": {
          "base_uri": "https://localhost:8080/",
          "height": 35
        }
      },
      "source": [
        "# types of datatypes\n",
        "set(df_train.dtypes.tolist())"
      ],
      "execution_count": 0,
      "outputs": [
        {
          "output_type": "execute_result",
          "data": {
            "text/plain": [
              "{dtype('int64'), dtype('float64'), dtype('O')}"
            ]
          },
          "metadata": {
            "tags": []
          },
          "execution_count": 19
        }
      ]
    },
    {
      "cell_type": "code",
      "metadata": {
        "id": "QC2AwiixWZQ1",
        "colab_type": "code",
        "colab": {}
      },
      "source": [
        "# distributing int flot and Object columns\n",
        "df_train_int = df_train.select_dtypes(include = ['int64', 'float64'])\n",
        "df_train_Object = df_train.select_dtypes(include = object)"
      ],
      "execution_count": 0,
      "outputs": []
    },
    {
      "cell_type": "code",
      "metadata": {
        "id": "8azngF32WZQ6",
        "colab_type": "code",
        "outputId": "75dece60-362a-4d1f-8861-b4ae1676c017",
        "colab": {
          "base_uri": "https://localhost:8080/",
          "height": 35
        }
      },
      "source": [
        "#columns\n",
        "df_train_int.columns.tolist()"
      ],
      "execution_count": 0,
      "outputs": [
        {
          "output_type": "execute_result",
          "data": {
            "text/plain": [
              "['Duration', 'Net Sales', 'Commision (in value)', 'Age']"
            ]
          },
          "metadata": {
            "tags": []
          },
          "execution_count": 21
        }
      ]
    },
    {
      "cell_type": "code",
      "metadata": {
        "id": "ZF6dFLAEWZRB",
        "colab_type": "code",
        "colab": {}
      },
      "source": [
        "# there are only 4 np.Number column"
      ],
      "execution_count": 0,
      "outputs": []
    },
    {
      "cell_type": "code",
      "metadata": {
        "id": "ZimXwqOYWZRI",
        "colab_type": "code",
        "outputId": "1b6c0351-b2fd-4cbb-843e-b3743122f3f0",
        "colab": {
          "base_uri": "https://localhost:8080/",
          "height": 104
        }
      },
      "source": [
        "# chaecking null values for int column\n",
        "df_train_int.isnull().sum()"
      ],
      "execution_count": 0,
      "outputs": [
        {
          "output_type": "execute_result",
          "data": {
            "text/plain": [
              "Duration                0\n",
              "Net Sales               0\n",
              "Commision (in value)    0\n",
              "Age                     0\n",
              "dtype: int64"
            ]
          },
          "metadata": {
            "tags": []
          },
          "execution_count": 23
        }
      ]
    },
    {
      "cell_type": "code",
      "metadata": {
        "id": "cDezd7wKWZRS",
        "colab_type": "code",
        "colab": {}
      },
      "source": [
        "#there are no null vlaues in null columns\n",
        "df_train_int['Claim'] = y_train"
      ],
      "execution_count": 0,
      "outputs": []
    },
    {
      "cell_type": "code",
      "metadata": {
        "id": "bhixTMnxWZRa",
        "colab_type": "code",
        "outputId": "a48ba985-33f6-4618-f5a2-fd34e5aeec60",
        "colab": {
          "base_uri": "https://localhost:8080/",
          "height": 947
        }
      },
      "source": [
        "sns.pairplot(df_train_int, hue=\"Claim\")"
      ],
      "execution_count": 0,
      "outputs": [
        {
          "output_type": "execute_result",
          "data": {
            "text/plain": [
              "<seaborn.axisgrid.PairGrid at 0x7f8861a6a7f0>"
            ]
          },
          "metadata": {
            "tags": []
          },
          "execution_count": 25
        },
        {
          "output_type": "display_data",
          "data": {
            "image/png": "[encoded data removed]",
            "text/plain": [
              "<Figure size 942.375x900 with 30 Axes>"
            ]
          },
          "metadata": {
            "tags": []
          }
        }
      ]
    },
    {
      "cell_type": "markdown",
      "metadata": {
        "id": "kJ-KKmX-WZRh",
        "colab_type": "text"
      },
      "source": [
        "Observations from pair plot wrt claim column <br>\n",
        "1) for All values of duration above ~ 800 all claims are rejected<br>\n",
        "2) for net sales value less than ~ 0 all claims are rejected<br>\n",
        "3) for age less than ~ 10 all claims are rejected<br>\n",
        "4) for Commission (in value) less than ~ 0 all claims are rejected and above ~220 all claims are rejected<br>"
      ]
    },
    {
      "cell_type": "code",
      "metadata": {
        "id": "67n6Yjz-WZRj",
        "colab_type": "code",
        "outputId": "e0feecd7-eff3-4271-9eaa-06d774df6ed7",
        "colab": {
          "base_uri": "https://localhost:8080/",
          "height": 301
        }
      },
      "source": [
        "# histogram for distribution plot\n",
        "sns.distplot(df_train_int[\"Duration\"], bins=1)"
      ],
      "execution_count": 0,
      "outputs": [
        {
          "output_type": "execute_result",
          "data": {
            "text/plain": [
              "<matplotlib.axes._subplots.AxesSubplot at 0x7f885e8bd630>"
            ]
          },
          "metadata": {
            "tags": []
          },
          "execution_count": 26
        },
        {
          "output_type": "display_data",
          "data": {
            "image/png": "[encoded data removed]",
            "text/plain": [
              "<Figure size 432x288 with 1 Axes>"
            ]
          },
          "metadata": {
            "tags": []
          }
        }
      ]
    },
    {
      "cell_type": "code",
      "metadata": {
        "id": "KjB6H9yZWZRo",
        "colab_type": "code",
        "outputId": "c9c6dc69-0ee3-44d7-98c9-12780c26961e",
        "colab": {
          "base_uri": "https://localhost:8080/",
          "height": 437
        }
      },
      "source": [
        "# variables in the dataset\n",
        "f, ax = plt.subplots(figsize=(6.5, 6.5))\n",
        "sns.despine(f, left=True, bottom=True)\n",
        "claim_ranking = [1,0]\n",
        "sns.scatterplot(x=\"Duration\", y=\"Claim\",\n",
        "                hue=\"Claim\",\n",
        "                palette=\"ch:r=-.2,d=.3_r\",\n",
        "                hue_order=claim_ranking,\n",
        "                sizes=(1, 3), linewidth=0,\n",
        "                data=df_train_int, ax=ax)"
      ],
      "execution_count": 0,
      "outputs": [
        {
          "output_type": "execute_result",
          "data": {
            "text/plain": [
              "<matplotlib.axes._subplots.AxesSubplot at 0x7f885cfddeb8>"
            ]
          },
          "metadata": {
            "tags": []
          },
          "execution_count": 27
        },
        {
          "output_type": "display_data",
          "data": {
            "image/png": "[encoded data removed]",
            "text/plain": [
              "<Figure size 468x468 with 1 Axes>"
            ]
          },
          "metadata": {
            "tags": []
          }
        }
      ]
    },
    {
      "cell_type": "code",
      "metadata": {
        "id": "UzTRSs9-WZRu",
        "colab_type": "code",
        "colab": {}
      },
      "source": [
        "# all claims above ~800 rejected\n",
        "df_train_int.loc[df_train_int[\"Duration\"] >= 740, ['Duration']] = 740"
      ],
      "execution_count": 0,
      "outputs": []
    },
    {
      "cell_type": "code",
      "metadata": {
        "id": "KI2ly43tWZR0",
        "colab_type": "code",
        "colab": {}
      },
      "source": [
        "# duration is time period thats why it can not be negative\n",
        "df_train_int.loc[df_train_int[\"Duration\"] <= 0, ['Duration']] = 0"
      ],
      "execution_count": 0,
      "outputs": []
    },
    {
      "cell_type": "code",
      "metadata": {
        "id": "7mo1VIdpWZR7",
        "colab_type": "code",
        "outputId": "a6d5e595-0c27-4ce3-aa13-127096b5d4c3",
        "colab": {
          "base_uri": "https://localhost:8080/",
          "height": 301
        }
      },
      "source": [
        "# histogram for net sales plot\n",
        "sns.distplot(df_train_int[\"Net Sales\"], bins=5)"
      ],
      "execution_count": 0,
      "outputs": [
        {
          "output_type": "execute_result",
          "data": {
            "text/plain": [
              "<matplotlib.axes._subplots.AxesSubplot at 0x7f885e86ae48>"
            ]
          },
          "metadata": {
            "tags": []
          },
          "execution_count": 30
        },
        {
          "output_type": "display_data",
          "data": {
            "image/png": "[encoded data removed]",
            "text/plain": [
              "<Figure size 432x288 with 1 Axes>"
            ]
          },
          "metadata": {
            "tags": []
          }
        }
      ]
    },
    {
      "cell_type": "code",
      "metadata": {
        "id": "30B002ZdWZR_",
        "colab_type": "code",
        "outputId": "383ee89f-d4b8-41d9-ce2d-a832fecb9066",
        "colab": {
          "base_uri": "https://localhost:8080/",
          "height": 437
        }
      },
      "source": [
        "# variables in the dataset\n",
        "f, ax = plt.subplots(figsize=(6.5, 6.5))\n",
        "sns.despine(f, left=True, bottom=True)\n",
        "claim_ranking = [1,0]\n",
        "sns.scatterplot(x=\"Net Sales\", y=\"Claim\",\n",
        "                hue=\"Claim\",\n",
        "                palette=\"ch:r=-.2,d=.3_r\",\n",
        "                hue_order=claim_ranking,\n",
        "                sizes=(1, 3), linewidth=0,\n",
        "                data=df_train_int, ax=ax)"
      ],
      "execution_count": 0,
      "outputs": [
        {
          "output_type": "execute_result",
          "data": {
            "text/plain": [
              "<matplotlib.axes._subplots.AxesSubplot at 0x7f885cf56048>"
            ]
          },
          "metadata": {
            "tags": []
          },
          "execution_count": 31
        },
        {
          "output_type": "display_data",
          "data": {
            "image/png": "[encoded data removed]",
            "text/plain": [
              "<Figure size 468x468 with 1 Axes>"
            ]
          },
          "metadata": {
            "tags": []
          }
        }
      ]
    },
    {
      "cell_type": "code",
      "metadata": {
        "id": "_47O-c4-WZSF",
        "colab_type": "code",
        "colab": {}
      },
      "source": [
        "# for all the values below ~-20 all the claims are rejected\n",
        "df_train_int.loc[df_train_int[\"Net Sales\"] <= -20, ['Net Sales']] = -20"
      ],
      "execution_count": 0,
      "outputs": []
    },
    {
      "cell_type": "code",
      "metadata": {
        "id": "fXzbUJsXWZSK",
        "colab_type": "code",
        "colab": {}
      },
      "source": [
        "# for all the values above ~550 all the claims are rejected\n",
        "df_train_int.loc[df_train_int[\"Net Sales\"] >= 550, ['Net Sales']] = 550"
      ],
      "execution_count": 0,
      "outputs": []
    },
    {
      "cell_type": "code",
      "metadata": {
        "id": "pWZXTqUNWZSS",
        "colab_type": "code",
        "outputId": "9b5b65bd-1427-4188-bfb6-fab8d19fb30d",
        "colab": {
          "base_uri": "https://localhost:8080/",
          "height": 301
        }
      },
      "source": [
        "# histogram for net sales plot\n",
        "sns.distplot(df_train_int[\"Net Sales\"], bins=5)"
      ],
      "execution_count": 0,
      "outputs": [
        {
          "output_type": "execute_result",
          "data": {
            "text/plain": [
              "<matplotlib.axes._subplots.AxesSubplot at 0x7f885cfb3cf8>"
            ]
          },
          "metadata": {
            "tags": []
          },
          "execution_count": 34
        },
        {
          "output_type": "display_data",
          "data": {
            "image/png": "[encoded data removed]",
            "text/plain": [
              "<Figure size 432x288 with 1 Axes>"
            ]
          },
          "metadata": {
            "tags": []
          }
        }
      ]
    },
    {
      "cell_type": "code",
      "metadata": {
        "id": "Re9ibsaFWZSc",
        "colab_type": "code",
        "outputId": "7c8b7380-e9e3-4cac-aff8-05677dac2479",
        "colab": {
          "base_uri": "https://localhost:8080/",
          "height": 301
        }
      },
      "source": [
        "# histogram for net sales plot\n",
        "sns.distplot(df_train_int[\"Commision (in value)\"], bins=5)"
      ],
      "execution_count": 0,
      "outputs": [
        {
          "output_type": "execute_result",
          "data": {
            "text/plain": [
              "<matplotlib.axes._subplots.AxesSubplot at 0x7f885ce8dd68>"
            ]
          },
          "metadata": {
            "tags": []
          },
          "execution_count": 35
        },
        {
          "output_type": "display_data",
          "data": {
            "image/png": "[encoded data removed]",
            "text/plain": [
              "<Figure size 432x288 with 1 Axes>"
            ]
          },
          "metadata": {
            "tags": []
          }
        }
      ]
    },
    {
      "cell_type": "code",
      "metadata": {
        "id": "XpKQWFnoWZSi",
        "colab_type": "code",
        "outputId": "1b3654c2-5261-4e3c-822d-aea46d43dd16",
        "colab": {
          "base_uri": "https://localhost:8080/",
          "height": 437
        }
      },
      "source": [
        "# variables in the dataset\n",
        "f, ax = plt.subplots(figsize=(6.5, 6.5))\n",
        "sns.despine(f, left=True, bottom=True)\n",
        "claim_ranking = [1,0]\n",
        "sns.scatterplot(x=\"Commision (in value)\", y=\"Claim\",\n",
        "                hue=\"Claim\",\n",
        "                palette=\"ch:r=-.2,d=.3_r\",\n",
        "                hue_order=claim_ranking,\n",
        "                sizes=(1, 3), linewidth=0,\n",
        "                data=df_train_int, ax=ax)"
      ],
      "execution_count": 0,
      "outputs": [
        {
          "output_type": "execute_result",
          "data": {
            "text/plain": [
              "<matplotlib.axes._subplots.AxesSubplot at 0x7f885ce67518>"
            ]
          },
          "metadata": {
            "tags": []
          },
          "execution_count": 36
        },
        {
          "output_type": "display_data",
          "data": {
            "image/png": "[encoded data removed]",
            "text/plain": [
              "<Figure size 468x468 with 1 Axes>"
            ]
          },
          "metadata": {
            "tags": []
          }
        }
      ]
    },
    {
      "cell_type": "code",
      "metadata": {
        "id": "Q29nzpbtWZSn",
        "colab_type": "code",
        "colab": {}
      },
      "source": [
        "# for all Commision above ~220 all the claims are rejeted\n",
        "df_train_int.loc[df_train_int[\"Commision (in value)\"] >= 220, ['Commision (in value)']] = 220"
      ],
      "execution_count": 0,
      "outputs": []
    },
    {
      "cell_type": "code",
      "metadata": {
        "id": "f7wqGJPaWZSs",
        "colab_type": "code",
        "outputId": "313d8379-83fe-4904-acd0-07737ce1250b",
        "colab": {
          "base_uri": "https://localhost:8080/",
          "height": 301
        }
      },
      "source": [
        "# histogram for net sales plot\n",
        "sns.distplot(df_train_int[\"Commision (in value)\"], bins=5)"
      ],
      "execution_count": 0,
      "outputs": [
        {
          "output_type": "execute_result",
          "data": {
            "text/plain": [
              "<matplotlib.axes._subplots.AxesSubplot at 0x7f885cf44668>"
            ]
          },
          "metadata": {
            "tags": []
          },
          "execution_count": 38
        },
        {
          "output_type": "display_data",
          "data": {
            "image/png": "[encoded data removed]",
            "text/plain": [
              "<Figure size 432x288 with 1 Axes>"
            ]
          },
          "metadata": {
            "tags": []
          }
        }
      ]
    },
    {
      "cell_type": "code",
      "metadata": {
        "id": "kuJz1nfOWZS1",
        "colab_type": "code",
        "outputId": "81754e38-3aee-4dcb-b169-cc30daf6ed56",
        "colab": {
          "base_uri": "https://localhost:8080/",
          "height": 283
        }
      },
      "source": [
        "ax = sns.distplot(df_train_int[\"Commision (in value)\"],kde = False)"
      ],
      "execution_count": 0,
      "outputs": [
        {
          "output_type": "display_data",
          "data": {
            "image/png": "[encoded data removed]",
            "text/plain": [
              "<Figure size 432x288 with 1 Axes>"
            ]
          },
          "metadata": {
            "tags": []
          }
        }
      ]
    },
    {
      "cell_type": "code",
      "metadata": {
        "id": "IhqJ4E4pWZS6",
        "colab_type": "code",
        "outputId": "4e2df388-61fd-4976-88c3-d91edcd86375",
        "colab": {
          "base_uri": "https://localhost:8080/",
          "height": 301
        }
      },
      "source": [
        "# histogram for net sales plot\n",
        "sns.distplot(df_train_int[\"Age\"], bins=5)"
      ],
      "execution_count": 0,
      "outputs": [
        {
          "output_type": "execute_result",
          "data": {
            "text/plain": [
              "<matplotlib.axes._subplots.AxesSubplot at 0x7f885cde0908>"
            ]
          },
          "metadata": {
            "tags": []
          },
          "execution_count": 40
        },
        {
          "output_type": "display_data",
          "data": {
            "image/png": "[encoded data removed]",
            "text/plain": [
              "<Figure size 432x288 with 1 Axes>"
            ]
          },
          "metadata": {
            "tags": []
          }
        }
      ]
    },
    {
      "cell_type": "code",
      "metadata": {
        "id": "hyIUN8DyWZTC",
        "colab_type": "code",
        "outputId": "e40f922a-78ec-4472-9d1f-c99e492cfd1b",
        "colab": {
          "base_uri": "https://localhost:8080/",
          "height": 437
        }
      },
      "source": [
        "# variables in the dataset\n",
        "f, ax = plt.subplots(figsize=(6.5, 6.5))\n",
        "sns.despine(f, left=True, bottom=True)\n",
        "claim_ranking = [1,0]\n",
        "sns.scatterplot(x=\"Age\", y=\"Claim\",\n",
        "                hue=\"Claim\",\n",
        "                palette=\"ch:r=-.2,d=.3_r\",\n",
        "                hue_order=claim_ranking,\n",
        "                sizes=(1, 3), linewidth=0,\n",
        "                data=df_train_int, ax=ax)"
      ],
      "execution_count": 0,
      "outputs": [
        {
          "output_type": "execute_result",
          "data": {
            "text/plain": [
              "<matplotlib.axes._subplots.AxesSubplot at 0x7f885cc1e9b0>"
            ]
          },
          "metadata": {
            "tags": []
          },
          "execution_count": 41
        },
        {
          "output_type": "display_data",
          "data": {
            "image/png": "[encoded data removed]",
            "text/plain": [
              "<Figure size 468x468 with 1 Axes>"
            ]
          },
          "metadata": {
            "tags": []
          }
        }
      ]
    },
    {
      "cell_type": "code",
      "metadata": {
        "id": "nxB-5aH3WZTJ",
        "colab_type": "code",
        "colab": {}
      },
      "source": [
        "# age below less than ~15 all claims are rejected\n",
        "df_train_int.loc[df_train_int[\"Age\"] <= 15, ['Age']] = 15"
      ],
      "execution_count": 0,
      "outputs": []
    },
    {
      "cell_type": "code",
      "metadata": {
        "id": "A1HRjdz1WZTU",
        "colab_type": "code",
        "colab": {}
      },
      "source": [
        "# age below less than ~15 all claims are rejected\n",
        "df_train_int.loc[df_train_int[\"Age\"] >= 85, ['Age']] = 85"
      ],
      "execution_count": 0,
      "outputs": []
    },
    {
      "cell_type": "code",
      "metadata": {
        "id": "IQZb6WNWWZTZ",
        "colab_type": "code",
        "colab": {}
      },
      "source": [
        "# eda for int variable is over"
      ],
      "execution_count": 0,
      "outputs": []
    },
    {
      "cell_type": "code",
      "metadata": {
        "id": "nFzS6-kGWZTe",
        "colab_type": "code",
        "colab": {}
      },
      "source": [
        "# eda for categorical variable\n",
        "df_train_Object['Claim'] = y_train"
      ],
      "execution_count": 0,
      "outputs": []
    },
    {
      "cell_type": "code",
      "metadata": {
        "id": "ATEdWWqiWZTj",
        "colab_type": "code",
        "outputId": "e5f1200c-dfeb-495e-ae76-6972f29e9563",
        "colab": {
          "base_uri": "https://localhost:8080/",
          "height": 156
        }
      },
      "source": [
        "# check for null values\n",
        "df_train_Object.isnull().sum()"
      ],
      "execution_count": 0,
      "outputs": [
        {
          "output_type": "execute_result",
          "data": {
            "text/plain": [
              "Agency                      0\n",
              "Agency Type                 0\n",
              "Distribution Channel        0\n",
              "Product Name                0\n",
              "Destination                 0\n",
              "Gender                  35953\n",
              "Claim                       0\n",
              "dtype: int64"
            ]
          },
          "metadata": {
            "tags": []
          },
          "execution_count": 46
        }
      ]
    },
    {
      "cell_type": "code",
      "metadata": {
        "id": "nrf_jEZhWZTq",
        "colab_type": "code",
        "colab": {}
      },
      "source": [
        "# only gender column has null values"
      ],
      "execution_count": 0,
      "outputs": []
    },
    {
      "cell_type": "code",
      "metadata": {
        "id": "6mCU1Ki5WZTv",
        "colab_type": "code",
        "outputId": "5562247f-269c-4b48-d1ed-f6a5b6d545b9",
        "colab": {
          "base_uri": "https://localhost:8080/",
          "height": 369
        }
      },
      "source": [
        "#cat plot\n",
        "sns.catplot(x=\"Gender\", y=\"Claim\", hue=\"Claim\", data=df_train_Object);"
      ],
      "execution_count": 0,
      "outputs": [
        {
          "output_type": "display_data",
          "data": {
            "image/png": "[encoded data removed]",
            "text/plain": [
              "<Figure size 402.375x360 with 1 Axes>"
            ]
          },
          "metadata": {
            "tags": []
          }
        }
      ]
    },
    {
      "cell_type": "code",
      "metadata": {
        "id": "ciaM3Q2LWZT2",
        "colab_type": "code",
        "outputId": "f9d27420-18c4-4d34-c9a5-0e62305f0b2c",
        "colab": {
          "base_uri": "https://localhost:8080/",
          "height": 35
        }
      },
      "source": [
        "# perccenttage of missing data for gender\n",
        "df_train_Object[\"Gender\"].isnull().sum()/(df_train_Object[\"Gender\"].count() + df_train_Object[\"Gender\"].isnull().sum())"
      ],
      "execution_count": 0,
      "outputs": [
        {
          "output_type": "execute_result",
          "data": {
            "text/plain": [
              "0.7111941922338931"
            ]
          },
          "metadata": {
            "tags": []
          },
          "execution_count": 49
        }
      ]
    },
    {
      "cell_type": "code",
      "metadata": {
        "id": "4a5E_Xz5WZUD",
        "colab_type": "code",
        "colab": {}
      },
      "source": [
        "# 71 % data is missing in fender column\n",
        "# since its categorical column lets remove it with mode value\n",
        "df_train_Object[\"Gender\"].fillna(df_train_Object[\"Gender\"].mode()[0], inplace=True)"
      ],
      "execution_count": 0,
      "outputs": []
    },
    {
      "cell_type": "code",
      "metadata": {
        "id": "a_wp8W6EWZUM",
        "colab_type": "code",
        "outputId": "e4c5efea-61e5-483f-93bf-9ae726650b34",
        "colab": {
          "base_uri": "https://localhost:8080/",
          "height": 301
        }
      },
      "source": [
        "# count plot for Gender\n",
        "sns.countplot(data = df_train_Object, x = 'Gender')"
      ],
      "execution_count": 0,
      "outputs": [
        {
          "output_type": "execute_result",
          "data": {
            "text/plain": [
              "<matplotlib.axes._subplots.AxesSubplot at 0x7f885ccb9f60>"
            ]
          },
          "metadata": {
            "tags": []
          },
          "execution_count": 51
        },
        {
          "output_type": "display_data",
          "data": {
            "image/png": "[encoded data removed]",
            "text/plain": [
              "<Figure size 432x288 with 1 Axes>"
            ]
          },
          "metadata": {
            "tags": []
          }
        }
      ]
    },
    {
      "cell_type": "code",
      "metadata": {
        "id": "8-I3USq4WZUX",
        "colab_type": "code",
        "colab": {}
      },
      "source": [
        "sns.set(rc={'figure.figsize':(10.7,10.27)})"
      ],
      "execution_count": 0,
      "outputs": []
    },
    {
      "cell_type": "code",
      "metadata": {
        "id": "PPAVnu6HWZUd",
        "colab_type": "code",
        "outputId": "e2c1c2ff-f69d-4558-d298-c6ba63c3d7dd",
        "colab": {
          "base_uri": "https://localhost:8080/",
          "height": 649
        }
      },
      "source": [
        "# count plot in between gender and claim\n",
        "sns.countplot(data = df_train_Object, x='Gender', hue='Claim')"
      ],
      "execution_count": 0,
      "outputs": [
        {
          "output_type": "execute_result",
          "data": {
            "text/plain": [
              "<matplotlib.axes._subplots.AxesSubplot at 0x7f885cc9ddd8>"
            ]
          },
          "metadata": {
            "tags": []
          },
          "execution_count": 53
        },
        {
          "output_type": "display_data",
          "data": {
            "image/png": "[encoded data removed]",
            "text/plain": [
              "<Figure size 770.4x739.44 with 1 Axes>"
            ]
          },
          "metadata": {
            "tags": []
          }
        }
      ]
    },
    {
      "cell_type": "code",
      "metadata": {
        "id": "iwyfEw5mWZUm",
        "colab_type": "code",
        "outputId": "303eee05-ee6b-4b74-ec4e-9cbd812c8068",
        "colab": {
          "base_uri": "https://localhost:8080/",
          "height": 649
        }
      },
      "source": [
        "# count plot in between gender and claim\n",
        "sns.countplot(data = df_train_Object, x='Agency', hue='Claim')"
      ],
      "execution_count": 0,
      "outputs": [
        {
          "output_type": "execute_result",
          "data": {
            "text/plain": [
              "<matplotlib.axes._subplots.AxesSubplot at 0x7f885ccdf780>"
            ]
          },
          "metadata": {
            "tags": []
          },
          "execution_count": 54
        },
        {
          "output_type": "display_data",
          "data": {
            "image/png": "[encoded data removed]",
            "text/plain": [
              "<Figure size 770.4x739.44 with 1 Axes>"
            ]
          },
          "metadata": {
            "tags": []
          }
        }
      ]
    },
    {
      "cell_type": "code",
      "metadata": {
        "id": "zBaYh2gaWZUq",
        "colab_type": "code",
        "colab": {}
      },
      "source": [
        "# from above plot we can conclude that agency is not related with claim"
      ],
      "execution_count": 0,
      "outputs": []
    },
    {
      "cell_type": "code",
      "metadata": {
        "id": "NkcsLpaLWZUu",
        "colab_type": "code",
        "outputId": "3ddb6f30-cf23-433d-ef2d-2787c164be00",
        "colab": {
          "base_uri": "https://localhost:8080/",
          "height": 649
        }
      },
      "source": [
        "# count plot in between gender and claim\n",
        "sns.countplot(data = df_train_Object, x='Agency Type', hue='Claim')"
      ],
      "execution_count": 0,
      "outputs": [
        {
          "output_type": "execute_result",
          "data": {
            "text/plain": [
              "<matplotlib.axes._subplots.AxesSubplot at 0x7f885cb35128>"
            ]
          },
          "metadata": {
            "tags": []
          },
          "execution_count": 56
        },
        {
          "output_type": "display_data",
          "data": {
            "image/png": "[encoded data removed]",
            "text/plain": [
              "<Figure size 770.4x739.44 with 1 Axes>"
            ]
          },
          "metadata": {
            "tags": []
          }
        }
      ]
    },
    {
      "cell_type": "code",
      "metadata": {
        "id": "5i8WYGwJWZUz",
        "colab_type": "code",
        "outputId": "71d3783c-f16b-47e4-bcfd-c1f4a527e3fa",
        "colab": {
          "base_uri": "https://localhost:8080/",
          "height": 649
        }
      },
      "source": [
        "# count plot in between gender and claim\n",
        "sns.countplot(data = df_train_Object, x='Distribution Channel', hue='Claim')"
      ],
      "execution_count": 0,
      "outputs": [
        {
          "output_type": "execute_result",
          "data": {
            "text/plain": [
              "<matplotlib.axes._subplots.AxesSubplot at 0x7f885ccea668>"
            ]
          },
          "metadata": {
            "tags": []
          },
          "execution_count": 57
        },
        {
          "output_type": "display_data",
          "data": {
            "image/png": "[encoded data removed]",
            "text/plain": [
              "<Figure size 770.4x739.44 with 1 Axes>"
            ]
          },
          "metadata": {
            "tags": []
          }
        }
      ]
    },
    {
      "cell_type": "code",
      "metadata": {
        "id": "bx_qRHpoWZU5",
        "colab_type": "code",
        "outputId": "10da43e7-f397-4642-f009-41d03ff05fbd",
        "colab": {
          "base_uri": "https://localhost:8080/",
          "height": 649
        }
      },
      "source": [
        "# count plot in between gender and claim\n",
        "sns.countplot(data = df_train_Object, x='Product Name', hue='Claim')"
      ],
      "execution_count": 0,
      "outputs": [
        {
          "output_type": "execute_result",
          "data": {
            "text/plain": [
              "<matplotlib.axes._subplots.AxesSubplot at 0x7f885ca7dc50>"
            ]
          },
          "metadata": {
            "tags": []
          },
          "execution_count": 58
        },
        {
          "output_type": "display_data",
          "data": {
            "image/png": "[encoded data removed]",
            "text/plain": [
              "<Figure size 770.4x739.44 with 1 Axes>"
            ]
          },
          "metadata": {
            "tags": []
          }
        }
      ]
    },
    {
      "cell_type": "code",
      "metadata": {
        "id": "YIwMWEEQWZU8",
        "colab_type": "code",
        "colab": {}
      },
      "source": [
        "# claim is also not dependent on Product Name"
      ],
      "execution_count": 0,
      "outputs": []
    },
    {
      "cell_type": "code",
      "metadata": {
        "id": "XGZtLknAWZVB",
        "colab_type": "code",
        "colab": {}
      },
      "source": [
        "sns.set(rc={'figure.figsize':(20.7,20.27)})"
      ],
      "execution_count": 0,
      "outputs": []
    },
    {
      "cell_type": "code",
      "metadata": {
        "id": "XkbHIz7gWZVE",
        "colab_type": "code",
        "outputId": "7acd44f7-7e9d-4ad4-fb95-0404f4a8e4c2",
        "colab": {
          "base_uri": "https://localhost:8080/",
          "height": 1000
        }
      },
      "source": [
        "# count plot in between gender and claim\n",
        "sns.countplot(data = df_train_Object, x='Destination', hue='Claim')"
      ],
      "execution_count": 0,
      "outputs": [
        {
          "output_type": "execute_result",
          "data": {
            "text/plain": [
              "<matplotlib.axes._subplots.AxesSubplot at 0x7f885c952eb8>"
            ]
          },
          "metadata": {
            "tags": []
          },
          "execution_count": 61
        },
        {
          "output_type": "display_data",
          "data": {
            "image/png": "[encoded data removed]",
            "text/plain": [
              "<Figure size 1490.4x1459.44 with 1 Axes>"
            ]
          },
          "metadata": {
            "tags": []
          }
        }
      ]
    },
    {
      "cell_type": "code",
      "metadata": {
        "id": "X9oDGzykWZVK",
        "colab_type": "code",
        "colab": {}
      },
      "source": [
        "# claim is also not dependent on the Destination"
      ],
      "execution_count": 0,
      "outputs": []
    },
    {
      "cell_type": "code",
      "metadata": {
        "id": "CVrPCJ3uWZVO",
        "colab_type": "code",
        "colab": {}
      },
      "source": [
        "df_object_remove = [\"Destination\", \"Product Name\", \"Agency\",\"Distribution Channel\", \"Gender\", \"Agency Type\"]\n",
        "df_train_Object.drop(df_object_remove,1,inplace=True)"
      ],
      "execution_count": 0,
      "outputs": []
    },
    {
      "cell_type": "code",
      "metadata": {
        "id": "nNNKwYroWZVW",
        "colab_type": "code",
        "outputId": "5e1cfe0d-48c4-452f-cc46-f16e6fbcf1a4",
        "colab": {
          "base_uri": "https://localhost:8080/",
          "height": 202
        }
      },
      "source": [
        "df_train_Object.head()"
      ],
      "execution_count": 0,
      "outputs": [
        {
          "output_type": "execute_result",
          "data": {
            "text/html": [
              "<div>\n",
              "<style scoped>\n",
              "    .dataframe tbody tr th:only-of-type {\n",
              "        vertical-align: middle;\n",
              "    }\n",
              "\n",
              "    .dataframe tbody tr th {\n",
              "        vertical-align: top;\n",
              "    }\n",
              "\n",
              "    .dataframe thead th {\n",
              "        text-align: right;\n",
              "    }\n",
              "</style>\n",
              "<table border=\"1\" class=\"dataframe\">\n",
              "  <thead>\n",
              "    <tr style=\"text-align: right;\">\n",
              "      <th></th>\n",
              "      <th>Claim</th>\n",
              "    </tr>\n",
              "  </thead>\n",
              "  <tbody>\n",
              "    <tr>\n",
              "      <th>0</th>\n",
              "      <td>0</td>\n",
              "    </tr>\n",
              "    <tr>\n",
              "      <th>1</th>\n",
              "      <td>0</td>\n",
              "    </tr>\n",
              "    <tr>\n",
              "      <th>2</th>\n",
              "      <td>0</td>\n",
              "    </tr>\n",
              "    <tr>\n",
              "      <th>3</th>\n",
              "      <td>0</td>\n",
              "    </tr>\n",
              "    <tr>\n",
              "      <th>4</th>\n",
              "      <td>0</td>\n",
              "    </tr>\n",
              "  </tbody>\n",
              "</table>\n",
              "</div>"
            ],
            "text/plain": [
              "   Claim\n",
              "0      0\n",
              "1      0\n",
              "2      0\n",
              "3      0\n",
              "4      0"
            ]
          },
          "metadata": {
            "tags": []
          },
          "execution_count": 64
        }
      ]
    },
    {
      "cell_type": "code",
      "metadata": {
        "id": "Y6ojyvPvWZVa",
        "colab_type": "code",
        "colab": {}
      },
      "source": [
        "from sklearn.preprocessing import LabelEncoder\n",
        "from sklearn.linear_model import LogisticRegression\n",
        "from sklearn.tree import DecisionTreeClassifier\n",
        "from sklearn.ensemble import GradientBoostingClassifier ,RandomForestClassifier ,GradientBoostingClassifier\n",
        "from xgboost import XGBClassifier \n",
        "from sklearn.model_selection import GridSearchCV, RandomizedSearchCV\n",
        "from sklearn.linear_model import Ridge,Lasso\n",
        "from sklearn.metrics import roc_auc_score ,mean_squared_error,accuracy_score,classification_report,roc_curve,confusion_matrix\n",
        "import warnings\n",
        "warnings.filterwarnings('ignore')\n",
        "from scipy.stats.mstats import winsorize\n",
        "from sklearn.feature_selection import RFE"
      ],
      "execution_count": 0,
      "outputs": []
    },
    {
      "cell_type": "code",
      "metadata": {
        "id": "hjgz-a9xWZVd",
        "colab_type": "code",
        "colab": {}
      },
      "source": [
        "from sklearn.preprocessing import StandardScaler"
      ],
      "execution_count": 0,
      "outputs": []
    },
    {
      "cell_type": "code",
      "metadata": {
        "id": "lEFDAyWhWZVf",
        "colab_type": "code",
        "colab": {}
      },
      "source": [
        "scaler = StandardScaler()"
      ],
      "execution_count": 0,
      "outputs": []
    },
    {
      "cell_type": "code",
      "metadata": {
        "id": "7hAOVvXfWZVj",
        "colab_type": "code",
        "outputId": "9d45aac0-8019-4899-f830-7c01e065e368",
        "colab": {
          "base_uri": "https://localhost:8080/",
          "height": 202
        }
      },
      "source": [
        "df_train_Object.head()"
      ],
      "execution_count": 0,
      "outputs": [
        {
          "output_type": "execute_result",
          "data": {
            "text/html": [
              "<div>\n",
              "<style scoped>\n",
              "    .dataframe tbody tr th:only-of-type {\n",
              "        vertical-align: middle;\n",
              "    }\n",
              "\n",
              "    .dataframe tbody tr th {\n",
              "        vertical-align: top;\n",
              "    }\n",
              "\n",
              "    .dataframe thead th {\n",
              "        text-align: right;\n",
              "    }\n",
              "</style>\n",
              "<table border=\"1\" class=\"dataframe\">\n",
              "  <thead>\n",
              "    <tr style=\"text-align: right;\">\n",
              "      <th></th>\n",
              "      <th>Claim</th>\n",
              "    </tr>\n",
              "  </thead>\n",
              "  <tbody>\n",
              "    <tr>\n",
              "      <th>0</th>\n",
              "      <td>0</td>\n",
              "    </tr>\n",
              "    <tr>\n",
              "      <th>1</th>\n",
              "      <td>0</td>\n",
              "    </tr>\n",
              "    <tr>\n",
              "      <th>2</th>\n",
              "      <td>0</td>\n",
              "    </tr>\n",
              "    <tr>\n",
              "      <th>3</th>\n",
              "      <td>0</td>\n",
              "    </tr>\n",
              "    <tr>\n",
              "      <th>4</th>\n",
              "      <td>0</td>\n",
              "    </tr>\n",
              "  </tbody>\n",
              "</table>\n",
              "</div>"
            ],
            "text/plain": [
              "   Claim\n",
              "0      0\n",
              "1      0\n",
              "2      0\n",
              "3      0\n",
              "4      0"
            ]
          },
          "metadata": {
            "tags": []
          },
          "execution_count": 68
        }
      ]
    },
    {
      "cell_type": "code",
      "metadata": {
        "id": "8yq6wuzgWZVo",
        "colab_type": "code",
        "outputId": "2594ce8d-9115-42f5-d151-bf21255cae2e",
        "colab": {
          "base_uri": "https://localhost:8080/",
          "height": 245
        }
      },
      "source": [
        "#install imbalance\n",
        "!pip install -U imbalanced-learn"
      ],
      "execution_count": 0,
      "outputs": [
        {
          "output_type": "stream",
          "text": [
            "Collecting imbalanced-learn\n",
            "\u001b[?25l  Downloading https://files.pythonhosted.org/packages/e6/62/08c14224a7e242df2cef7b312d2ef821c3931ec9b015ff93bb52ec8a10a3/imbalanced_learn-0.5.0-py3-none-any.whl (173kB)\n",
            "\r\u001b[K     |██                              | 10kB 16.6MB/s eta 0:00:01\r\u001b[K     |███▉                            | 20kB 7.0MB/s eta 0:00:01\r\u001b[K     |█████▊                          | 30kB 9.7MB/s eta 0:00:01\r\u001b[K     |███████▋                        | 40kB 6.2MB/s eta 0:00:01\r\u001b[K     |█████████▌                      | 51kB 7.5MB/s eta 0:00:01\r\u001b[K     |███████████▍                    | 61kB 8.9MB/s eta 0:00:01\r\u001b[K     |█████████████▎                  | 71kB 10.0MB/s eta 0:00:01\r\u001b[K     |███████████████▏                | 81kB 11.2MB/s eta 0:00:01\r\u001b[K     |█████████████████               | 92kB 12.4MB/s eta 0:00:01\r\u001b[K     |███████████████████             | 102kB 9.9MB/s eta 0:00:01\r\u001b[K     |████████████████████▉           | 112kB 9.9MB/s eta 0:00:01\r\u001b[K     |██████████████████████▊         | 122kB 9.9MB/s eta 0:00:01\r\u001b[K     |████████████████████████▋       | 133kB 9.9MB/s eta 0:00:01\r\u001b[K     |██████████████████████████▌     | 143kB 9.9MB/s eta 0:00:01\r\u001b[K     |████████████████████████████▍   | 153kB 9.9MB/s eta 0:00:01\r\u001b[K     |██████████████████████████████▎ | 163kB 9.9MB/s eta 0:00:01\r\u001b[K     |████████████████████████████████| 174kB 9.9MB/s \n",
            "\u001b[?25hRequirement already satisfied, skipping upgrade: joblib>=0.11 in /usr/local/lib/python3.6/dist-packages (from imbalanced-learn) (0.13.2)\n",
            "Requirement already satisfied, skipping upgrade: numpy>=1.11 in /usr/local/lib/python3.6/dist-packages (from imbalanced-learn) (1.16.5)\n",
            "Requirement already satisfied, skipping upgrade: scikit-learn>=0.21 in /usr/local/lib/python3.6/dist-packages (from imbalanced-learn) (0.21.3)\n",
            "Requirement already satisfied, skipping upgrade: scipy>=0.17 in /usr/local/lib/python3.6/dist-packages (from imbalanced-learn) (1.3.1)\n",
            "Installing collected packages: imbalanced-learn\n",
            "  Found existing installation: imbalanced-learn 0.4.3\n",
            "    Uninstalling imbalanced-learn-0.4.3:\n",
            "      Successfully uninstalled imbalanced-learn-0.4.3\n",
            "Successfully installed imbalanced-learn-0.5.0\n"
          ],
          "name": "stdout"
        }
      ]
    },
    {
      "cell_type": "code",
      "metadata": {
        "id": "3SfdQFleWZVs",
        "colab_type": "code",
        "outputId": "21f1b475-292a-4540-d72d-38260c6a065c",
        "colab": {
          "base_uri": "https://localhost:8080/",
          "height": 35
        }
      },
      "source": [
        "from imblearn.combine import SMOTEENN"
      ],
      "execution_count": 0,
      "outputs": [
        {
          "output_type": "stream",
          "text": [
            "Using TensorFlow backend.\n"
          ],
          "name": "stderr"
        }
      ]
    },
    {
      "cell_type": "code",
      "metadata": {
        "id": "PPVoe1lsWZVv",
        "colab_type": "code",
        "colab": {}
      },
      "source": [
        "sm = SMOTEENN(random_state=42)"
      ],
      "execution_count": 0,
      "outputs": []
    },
    {
      "cell_type": "code",
      "metadata": {
        "id": "wCJfY7ODWZVz",
        "colab_type": "code",
        "colab": {}
      },
      "source": [
        "df_train_new = df_train_int"
      ],
      "execution_count": 0,
      "outputs": []
    },
    {
      "cell_type": "code",
      "metadata": {
        "id": "lfq9RCWIWZV5",
        "colab_type": "code",
        "outputId": "056e636c-e01b-4bf6-f73c-807d155bf042",
        "colab": {
          "base_uri": "https://localhost:8080/",
          "height": 202
        }
      },
      "source": [
        "df_train_new.head()"
      ],
      "execution_count": 0,
      "outputs": [
        {
          "output_type": "execute_result",
          "data": {
            "text/html": [
              "<div>\n",
              "<style scoped>\n",
              "    .dataframe tbody tr th:only-of-type {\n",
              "        vertical-align: middle;\n",
              "    }\n",
              "\n",
              "    .dataframe tbody tr th {\n",
              "        vertical-align: top;\n",
              "    }\n",
              "\n",
              "    .dataframe thead th {\n",
              "        text-align: right;\n",
              "    }\n",
              "</style>\n",
              "<table border=\"1\" class=\"dataframe\">\n",
              "  <thead>\n",
              "    <tr style=\"text-align: right;\">\n",
              "      <th></th>\n",
              "      <th>Duration</th>\n",
              "      <th>Net Sales</th>\n",
              "      <th>Commision (in value)</th>\n",
              "      <th>Age</th>\n",
              "      <th>Claim</th>\n",
              "    </tr>\n",
              "  </thead>\n",
              "  <tbody>\n",
              "    <tr>\n",
              "      <th>0</th>\n",
              "      <td>7</td>\n",
              "      <td>0.0</td>\n",
              "      <td>17.82</td>\n",
              "      <td>31</td>\n",
              "      <td>0</td>\n",
              "    </tr>\n",
              "    <tr>\n",
              "      <th>1</th>\n",
              "      <td>85</td>\n",
              "      <td>69.0</td>\n",
              "      <td>0.00</td>\n",
              "      <td>36</td>\n",
              "      <td>0</td>\n",
              "    </tr>\n",
              "    <tr>\n",
              "      <th>2</th>\n",
              "      <td>11</td>\n",
              "      <td>19.8</td>\n",
              "      <td>11.88</td>\n",
              "      <td>75</td>\n",
              "      <td>0</td>\n",
              "    </tr>\n",
              "    <tr>\n",
              "      <th>3</th>\n",
              "      <td>16</td>\n",
              "      <td>20.0</td>\n",
              "      <td>0.00</td>\n",
              "      <td>32</td>\n",
              "      <td>0</td>\n",
              "    </tr>\n",
              "    <tr>\n",
              "      <th>4</th>\n",
              "      <td>10</td>\n",
              "      <td>15.0</td>\n",
              "      <td>0.00</td>\n",
              "      <td>29</td>\n",
              "      <td>0</td>\n",
              "    </tr>\n",
              "  </tbody>\n",
              "</table>\n",
              "</div>"
            ],
            "text/plain": [
              "   Duration  Net Sales  Commision (in value)  Age  Claim\n",
              "0         7        0.0                 17.82   31      0\n",
              "1        85       69.0                  0.00   36      0\n",
              "2        11       19.8                 11.88   75      0\n",
              "3        16       20.0                  0.00   32      0\n",
              "4        10       15.0                  0.00   29      0"
            ]
          },
          "metadata": {
            "tags": []
          },
          "execution_count": 73
        }
      ]
    },
    {
      "cell_type": "code",
      "metadata": {
        "id": "0bFFlmYfWZV8",
        "colab_type": "code",
        "colab": {}
      },
      "source": [
        "df_train_new.iloc[:,0:4] = scaler.fit_transform(df_train_new.iloc[:,0:4])"
      ],
      "execution_count": 0,
      "outputs": []
    },
    {
      "cell_type": "code",
      "metadata": {
        "id": "V_IUWfuoWZV_",
        "colab_type": "code",
        "outputId": "c013dd74-a887-493c-bf83-880d5768b1f4",
        "colab": {
          "base_uri": "https://localhost:8080/",
          "height": 202
        }
      },
      "source": [
        "df_train_new.head()"
      ],
      "execution_count": 0,
      "outputs": [
        {
          "output_type": "execute_result",
          "data": {
            "text/html": [
              "<div>\n",
              "<style scoped>\n",
              "    .dataframe tbody tr th:only-of-type {\n",
              "        vertical-align: middle;\n",
              "    }\n",
              "\n",
              "    .dataframe tbody tr th {\n",
              "        vertical-align: top;\n",
              "    }\n",
              "\n",
              "    .dataframe thead th {\n",
              "        text-align: right;\n",
              "    }\n",
              "</style>\n",
              "<table border=\"1\" class=\"dataframe\">\n",
              "  <thead>\n",
              "    <tr style=\"text-align: right;\">\n",
              "      <th></th>\n",
              "      <th>Duration</th>\n",
              "      <th>Net Sales</th>\n",
              "      <th>Commision (in value)</th>\n",
              "      <th>Age</th>\n",
              "      <th>Claim</th>\n",
              "    </tr>\n",
              "  </thead>\n",
              "  <tbody>\n",
              "    <tr>\n",
              "      <th>0</th>\n",
              "      <td>-0.555972</td>\n",
              "      <td>-0.863377</td>\n",
              "      <td>0.403211</td>\n",
              "      <td>-0.735256</td>\n",
              "      <td>0</td>\n",
              "    </tr>\n",
              "    <tr>\n",
              "      <th>1</th>\n",
              "      <td>0.487630</td>\n",
              "      <td>0.582230</td>\n",
              "      <td>-0.496074</td>\n",
              "      <td>-0.302683</td>\n",
              "      <td>0</td>\n",
              "    </tr>\n",
              "    <tr>\n",
              "      <th>2</th>\n",
              "      <td>-0.502454</td>\n",
              "      <td>-0.448551</td>\n",
              "      <td>0.103449</td>\n",
              "      <td>3.071381</td>\n",
              "      <td>0</td>\n",
              "    </tr>\n",
              "    <tr>\n",
              "      <th>3</th>\n",
              "      <td>-0.435556</td>\n",
              "      <td>-0.444361</td>\n",
              "      <td>-0.496074</td>\n",
              "      <td>-0.648741</td>\n",
              "      <td>0</td>\n",
              "    </tr>\n",
              "    <tr>\n",
              "      <th>4</th>\n",
              "      <td>-0.515833</td>\n",
              "      <td>-0.549115</td>\n",
              "      <td>-0.496074</td>\n",
              "      <td>-0.908285</td>\n",
              "      <td>0</td>\n",
              "    </tr>\n",
              "  </tbody>\n",
              "</table>\n",
              "</div>"
            ],
            "text/plain": [
              "   Duration  Net Sales  Commision (in value)       Age  Claim\n",
              "0 -0.555972  -0.863377              0.403211 -0.735256      0\n",
              "1  0.487630   0.582230             -0.496074 -0.302683      0\n",
              "2 -0.502454  -0.448551              0.103449  3.071381      0\n",
              "3 -0.435556  -0.444361             -0.496074 -0.648741      0\n",
              "4 -0.515833  -0.549115             -0.496074 -0.908285      0"
            ]
          },
          "metadata": {
            "tags": []
          },
          "execution_count": 75
        }
      ]
    },
    {
      "cell_type": "code",
      "metadata": {
        "id": "jg-1IP9UWZWE",
        "colab_type": "code",
        "colab": {}
      },
      "source": [
        "df_train_without_claim = df_train_new.drop(['Claim'],1)"
      ],
      "execution_count": 0,
      "outputs": []
    },
    {
      "cell_type": "code",
      "metadata": {
        "id": "R2R3cQR2WZWI",
        "colab_type": "code",
        "outputId": "92759f0a-736a-4cd9-8e4a-a7e482119b8c",
        "colab": {
          "base_uri": "https://localhost:8080/",
          "height": 202
        }
      },
      "source": [
        "df_train_without_claim.head()"
      ],
      "execution_count": 0,
      "outputs": [
        {
          "output_type": "execute_result",
          "data": {
            "text/html": [
              "<div>\n",
              "<style scoped>\n",
              "    .dataframe tbody tr th:only-of-type {\n",
              "        vertical-align: middle;\n",
              "    }\n",
              "\n",
              "    .dataframe tbody tr th {\n",
              "        vertical-align: top;\n",
              "    }\n",
              "\n",
              "    .dataframe thead th {\n",
              "        text-align: right;\n",
              "    }\n",
              "</style>\n",
              "<table border=\"1\" class=\"dataframe\">\n",
              "  <thead>\n",
              "    <tr style=\"text-align: right;\">\n",
              "      <th></th>\n",
              "      <th>Duration</th>\n",
              "      <th>Net Sales</th>\n",
              "      <th>Commision (in value)</th>\n",
              "      <th>Age</th>\n",
              "    </tr>\n",
              "  </thead>\n",
              "  <tbody>\n",
              "    <tr>\n",
              "      <th>0</th>\n",
              "      <td>-0.555972</td>\n",
              "      <td>-0.863377</td>\n",
              "      <td>0.403211</td>\n",
              "      <td>-0.735256</td>\n",
              "    </tr>\n",
              "    <tr>\n",
              "      <th>1</th>\n",
              "      <td>0.487630</td>\n",
              "      <td>0.582230</td>\n",
              "      <td>-0.496074</td>\n",
              "      <td>-0.302683</td>\n",
              "    </tr>\n",
              "    <tr>\n",
              "      <th>2</th>\n",
              "      <td>-0.502454</td>\n",
              "      <td>-0.448551</td>\n",
              "      <td>0.103449</td>\n",
              "      <td>3.071381</td>\n",
              "    </tr>\n",
              "    <tr>\n",
              "      <th>3</th>\n",
              "      <td>-0.435556</td>\n",
              "      <td>-0.444361</td>\n",
              "      <td>-0.496074</td>\n",
              "      <td>-0.648741</td>\n",
              "    </tr>\n",
              "    <tr>\n",
              "      <th>4</th>\n",
              "      <td>-0.515833</td>\n",
              "      <td>-0.549115</td>\n",
              "      <td>-0.496074</td>\n",
              "      <td>-0.908285</td>\n",
              "    </tr>\n",
              "  </tbody>\n",
              "</table>\n",
              "</div>"
            ],
            "text/plain": [
              "   Duration  Net Sales  Commision (in value)       Age\n",
              "0 -0.555972  -0.863377              0.403211 -0.735256\n",
              "1  0.487630   0.582230             -0.496074 -0.302683\n",
              "2 -0.502454  -0.448551              0.103449  3.071381\n",
              "3 -0.435556  -0.444361             -0.496074 -0.648741\n",
              "4 -0.515833  -0.549115             -0.496074 -0.908285"
            ]
          },
          "metadata": {
            "tags": []
          },
          "execution_count": 77
        }
      ]
    },
    {
      "cell_type": "code",
      "metadata": {
        "id": "DcZYciOxWZWK",
        "colab_type": "code",
        "colab": {}
      },
      "source": [
        "X_res, y_res = sm.fit_resample(df_train_without_claim, y_train)"
      ],
      "execution_count": 0,
      "outputs": []
    },
    {
      "cell_type": "code",
      "metadata": {
        "id": "ClIegiNzWZWS",
        "colab_type": "code",
        "outputId": "2bfd0348-7321-46b7-e374-df4729b8fb7e",
        "colab": {
          "base_uri": "https://localhost:8080/",
          "height": 35
        }
      },
      "source": [
        "len(X_res)"
      ],
      "execution_count": 0,
      "outputs": [
        {
          "output_type": "execute_result",
          "data": {
            "text/plain": [
              "87517"
            ]
          },
          "metadata": {
            "tags": []
          },
          "execution_count": 79
        }
      ]
    },
    {
      "cell_type": "code",
      "metadata": {
        "id": "nqTH1k6ZWZWW",
        "colab_type": "code",
        "outputId": "68e25054-5715-4094-94d8-0b04a5d7b034",
        "colab": {
          "base_uri": "https://localhost:8080/",
          "height": 208
        }
      },
      "source": [
        "#handling test data\n",
        "df_test.columns.tolist()"
      ],
      "execution_count": 0,
      "outputs": [
        {
          "output_type": "execute_result",
          "data": {
            "text/plain": [
              "['ID',\n",
              " 'Agency',\n",
              " 'Agency Type',\n",
              " 'Distribution Channel',\n",
              " 'Product Name',\n",
              " 'Duration',\n",
              " 'Destination',\n",
              " 'Net Sales',\n",
              " 'Commision (in value)',\n",
              " 'Gender',\n",
              " 'Age']"
            ]
          },
          "metadata": {
            "tags": []
          },
          "execution_count": 80
        }
      ]
    },
    {
      "cell_type": "code",
      "metadata": {
        "id": "y2XQvDjuWZWg",
        "colab_type": "code",
        "colab": {}
      },
      "source": [
        "#drop ID\n",
        "df_test.drop([\"ID\"],1, inplace=True)"
      ],
      "execution_count": 0,
      "outputs": []
    },
    {
      "cell_type": "code",
      "metadata": {
        "id": "7XPCdQoKWZWp",
        "colab_type": "code",
        "colab": {}
      },
      "source": [
        "# all claims above ~800 rejected\n",
        "df_test.loc[df_test[\"Duration\"] >= 740, ['Duration']] = 740\n",
        "df_test.loc[df_test[\"Duration\"] <= 0, ['Duration']] = 0"
      ],
      "execution_count": 0,
      "outputs": []
    },
    {
      "cell_type": "code",
      "metadata": {
        "id": "M7ge3c1TWZWt",
        "colab_type": "code",
        "colab": {}
      },
      "source": [
        "# for all the values below ~-20 all the claims are rejected\n",
        "df_test.loc[df_test[\"Net Sales\"] <= -20, ['Net Sales']] = -20\n",
        "df_test.loc[df_test[\"Net Sales\"] >= 550, ['Net Sales']] = 550"
      ],
      "execution_count": 0,
      "outputs": []
    },
    {
      "cell_type": "code",
      "metadata": {
        "id": "_p4wys-AWZWw",
        "colab_type": "code",
        "colab": {}
      },
      "source": [
        "# for all Commision above ~220 all the claims are rejeted\n",
        "df_test.loc[df_test[\"Commision (in value)\"] >= 220, ['Commision (in value)']] = 220"
      ],
      "execution_count": 0,
      "outputs": []
    },
    {
      "cell_type": "code",
      "metadata": {
        "id": "KVBItfBTWZWy",
        "colab_type": "code",
        "colab": {}
      },
      "source": [
        "# age below less than ~15 all claims are rejected\n",
        "df_test.loc[df_test[\"Age\"] <= 15, ['Age']] = 15\n",
        "df_test.loc[df_test[\"Age\"] >= 85, ['Age']] = 85"
      ],
      "execution_count": 0,
      "outputs": []
    },
    {
      "cell_type": "code",
      "metadata": {
        "id": "ZUyhL4WPWZW1",
        "colab_type": "code",
        "colab": {}
      },
      "source": [
        "# 71 % data is missing in fender column\n",
        "# since its categorical column lets remove it with mode value\n",
        "df_test[\"Gender\"].fillna(df_test[\"Gender\"].mode()[0], inplace=True)"
      ],
      "execution_count": 0,
      "outputs": []
    },
    {
      "cell_type": "code",
      "metadata": {
        "id": "kKVmTb3vWZW5",
        "colab_type": "code",
        "colab": {}
      },
      "source": [
        "# for all Commision above ~220 all the claims are rejeted\n",
        "df_test.loc[df_test[\"Commision (in value)\"] <= 0, ['Commision (in value)']] = 0"
      ],
      "execution_count": 0,
      "outputs": []
    },
    {
      "cell_type": "code",
      "metadata": {
        "id": "Suuv9M92WZXB",
        "colab_type": "code",
        "colab": {}
      },
      "source": [
        "df_object_remove = [\"Destination\", \"Product Name\", \"Agency\",\"Distribution Channel\", \"Gender\", \"Agency Type\"]\n",
        "df_test.drop(df_object_remove,1,inplace=True)"
      ],
      "execution_count": 0,
      "outputs": []
    },
    {
      "cell_type": "code",
      "metadata": {
        "id": "N5ldm_7cWZXD",
        "colab_type": "code",
        "outputId": "a29ef08a-ad4f-4f0f-c240-fa5a2197459c",
        "colab": {
          "base_uri": "https://localhost:8080/",
          "height": 202
        }
      },
      "source": [
        "df_test.head()"
      ],
      "execution_count": 0,
      "outputs": [
        {
          "output_type": "execute_result",
          "data": {
            "text/html": [
              "<div>\n",
              "<style scoped>\n",
              "    .dataframe tbody tr th:only-of-type {\n",
              "        vertical-align: middle;\n",
              "    }\n",
              "\n",
              "    .dataframe tbody tr th {\n",
              "        vertical-align: top;\n",
              "    }\n",
              "\n",
              "    .dataframe thead th {\n",
              "        text-align: right;\n",
              "    }\n",
              "</style>\n",
              "<table border=\"1\" class=\"dataframe\">\n",
              "  <thead>\n",
              "    <tr style=\"text-align: right;\">\n",
              "      <th></th>\n",
              "      <th>Duration</th>\n",
              "      <th>Net Sales</th>\n",
              "      <th>Commision (in value)</th>\n",
              "      <th>Age</th>\n",
              "    </tr>\n",
              "  </thead>\n",
              "  <tbody>\n",
              "    <tr>\n",
              "      <th>0</th>\n",
              "      <td>58</td>\n",
              "      <td>49.5</td>\n",
              "      <td>29.7</td>\n",
              "      <td>47</td>\n",
              "    </tr>\n",
              "    <tr>\n",
              "      <th>1</th>\n",
              "      <td>4</td>\n",
              "      <td>20.0</td>\n",
              "      <td>0.0</td>\n",
              "      <td>24</td>\n",
              "    </tr>\n",
              "    <tr>\n",
              "      <th>2</th>\n",
              "      <td>68</td>\n",
              "      <td>20.0</td>\n",
              "      <td>0.0</td>\n",
              "      <td>36</td>\n",
              "    </tr>\n",
              "    <tr>\n",
              "      <th>3</th>\n",
              "      <td>41</td>\n",
              "      <td>28.0</td>\n",
              "      <td>0.0</td>\n",
              "      <td>36</td>\n",
              "    </tr>\n",
              "    <tr>\n",
              "      <th>4</th>\n",
              "      <td>16</td>\n",
              "      <td>11.0</td>\n",
              "      <td>0.0</td>\n",
              "      <td>36</td>\n",
              "    </tr>\n",
              "  </tbody>\n",
              "</table>\n",
              "</div>"
            ],
            "text/plain": [
              "   Duration  Net Sales  Commision (in value)  Age\n",
              "0        58       49.5                  29.7   47\n",
              "1         4       20.0                   0.0   24\n",
              "2        68       20.0                   0.0   36\n",
              "3        41       28.0                   0.0   36\n",
              "4        16       11.0                   0.0   36"
            ]
          },
          "metadata": {
            "tags": []
          },
          "execution_count": 89
        }
      ]
    },
    {
      "cell_type": "code",
      "metadata": {
        "id": "UdVOrNy1WZXG",
        "colab_type": "code",
        "colab": {}
      },
      "source": [
        "df_test.iloc[:,:] = scaler.fit_transform(df_test.iloc[:,:])"
      ],
      "execution_count": 0,
      "outputs": []
    },
    {
      "cell_type": "code",
      "metadata": {
        "id": "_FUnfI3RWZXO",
        "colab_type": "code",
        "outputId": "0a9955e8-bc89-4474-a643-0a930bd4586c",
        "colab": {
          "base_uri": "https://localhost:8080/",
          "height": 202
        }
      },
      "source": [
        "df_test.head()"
      ],
      "execution_count": 0,
      "outputs": [
        {
          "output_type": "execute_result",
          "data": {
            "text/html": [
              "<div>\n",
              "<style scoped>\n",
              "    .dataframe tbody tr th:only-of-type {\n",
              "        vertical-align: middle;\n",
              "    }\n",
              "\n",
              "    .dataframe tbody tr th {\n",
              "        vertical-align: top;\n",
              "    }\n",
              "\n",
              "    .dataframe thead th {\n",
              "        text-align: right;\n",
              "    }\n",
              "</style>\n",
              "<table border=\"1\" class=\"dataframe\">\n",
              "  <thead>\n",
              "    <tr style=\"text-align: right;\">\n",
              "      <th></th>\n",
              "      <th>Duration</th>\n",
              "      <th>Net Sales</th>\n",
              "      <th>Commision (in value)</th>\n",
              "      <th>Age</th>\n",
              "    </tr>\n",
              "  </thead>\n",
              "  <tbody>\n",
              "    <tr>\n",
              "      <th>0</th>\n",
              "      <td>0.136226</td>\n",
              "      <td>0.186813</td>\n",
              "      <td>1.030038</td>\n",
              "      <td>0.673813</td>\n",
              "    </tr>\n",
              "    <tr>\n",
              "      <th>1</th>\n",
              "      <td>-0.596287</td>\n",
              "      <td>-0.438300</td>\n",
              "      <td>-0.500852</td>\n",
              "      <td>-1.348369</td>\n",
              "    </tr>\n",
              "    <tr>\n",
              "      <th>2</th>\n",
              "      <td>0.271877</td>\n",
              "      <td>-0.438300</td>\n",
              "      <td>-0.500852</td>\n",
              "      <td>-0.293318</td>\n",
              "    </tr>\n",
              "    <tr>\n",
              "      <th>3</th>\n",
              "      <td>-0.094380</td>\n",
              "      <td>-0.268778</td>\n",
              "      <td>-0.500852</td>\n",
              "      <td>-0.293318</td>\n",
              "    </tr>\n",
              "    <tr>\n",
              "      <th>4</th>\n",
              "      <td>-0.433507</td>\n",
              "      <td>-0.629012</td>\n",
              "      <td>-0.500852</td>\n",
              "      <td>-0.293318</td>\n",
              "    </tr>\n",
              "  </tbody>\n",
              "</table>\n",
              "</div>"
            ],
            "text/plain": [
              "   Duration  Net Sales  Commision (in value)       Age\n",
              "0  0.136226   0.186813              1.030038  0.673813\n",
              "1 -0.596287  -0.438300             -0.500852 -1.348369\n",
              "2  0.271877  -0.438300             -0.500852 -0.293318\n",
              "3 -0.094380  -0.268778             -0.500852 -0.293318\n",
              "4 -0.433507  -0.629012             -0.500852 -0.293318"
            ]
          },
          "metadata": {
            "tags": []
          },
          "execution_count": 91
        }
      ]
    },
    {
      "cell_type": "code",
      "metadata": {
        "id": "SnF1GwjiWZXT",
        "colab_type": "code",
        "outputId": "39a2b560-2e54-4046-85ca-5b4d33cb0c6b",
        "colab": {
          "base_uri": "https://localhost:8080/",
          "height": 202
        }
      },
      "source": [
        "df_test.head()"
      ],
      "execution_count": 0,
      "outputs": [
        {
          "output_type": "execute_result",
          "data": {
            "text/html": [
              "<div>\n",
              "<style scoped>\n",
              "    .dataframe tbody tr th:only-of-type {\n",
              "        vertical-align: middle;\n",
              "    }\n",
              "\n",
              "    .dataframe tbody tr th {\n",
              "        vertical-align: top;\n",
              "    }\n",
              "\n",
              "    .dataframe thead th {\n",
              "        text-align: right;\n",
              "    }\n",
              "</style>\n",
              "<table border=\"1\" class=\"dataframe\">\n",
              "  <thead>\n",
              "    <tr style=\"text-align: right;\">\n",
              "      <th></th>\n",
              "      <th>Duration</th>\n",
              "      <th>Net Sales</th>\n",
              "      <th>Commision (in value)</th>\n",
              "      <th>Age</th>\n",
              "    </tr>\n",
              "  </thead>\n",
              "  <tbody>\n",
              "    <tr>\n",
              "      <th>0</th>\n",
              "      <td>0.136226</td>\n",
              "      <td>0.186813</td>\n",
              "      <td>1.030038</td>\n",
              "      <td>0.673813</td>\n",
              "    </tr>\n",
              "    <tr>\n",
              "      <th>1</th>\n",
              "      <td>-0.596287</td>\n",
              "      <td>-0.438300</td>\n",
              "      <td>-0.500852</td>\n",
              "      <td>-1.348369</td>\n",
              "    </tr>\n",
              "    <tr>\n",
              "      <th>2</th>\n",
              "      <td>0.271877</td>\n",
              "      <td>-0.438300</td>\n",
              "      <td>-0.500852</td>\n",
              "      <td>-0.293318</td>\n",
              "    </tr>\n",
              "    <tr>\n",
              "      <th>3</th>\n",
              "      <td>-0.094380</td>\n",
              "      <td>-0.268778</td>\n",
              "      <td>-0.500852</td>\n",
              "      <td>-0.293318</td>\n",
              "    </tr>\n",
              "    <tr>\n",
              "      <th>4</th>\n",
              "      <td>-0.433507</td>\n",
              "      <td>-0.629012</td>\n",
              "      <td>-0.500852</td>\n",
              "      <td>-0.293318</td>\n",
              "    </tr>\n",
              "  </tbody>\n",
              "</table>\n",
              "</div>"
            ],
            "text/plain": [
              "   Duration  Net Sales  Commision (in value)       Age\n",
              "0  0.136226   0.186813              1.030038  0.673813\n",
              "1 -0.596287  -0.438300             -0.500852 -1.348369\n",
              "2  0.271877  -0.438300             -0.500852 -0.293318\n",
              "3 -0.094380  -0.268778             -0.500852 -0.293318\n",
              "4 -0.433507  -0.629012             -0.500852 -0.293318"
            ]
          },
          "metadata": {
            "tags": []
          },
          "execution_count": 92
        }
      ]
    },
    {
      "cell_type": "code",
      "metadata": {
        "id": "kLhLQd1pWZXZ",
        "colab_type": "code",
        "colab": {}
      },
      "source": [
        "# apply machine learning algorithms"
      ],
      "execution_count": 0,
      "outputs": []
    },
    {
      "cell_type": "code",
      "metadata": {
        "id": "70uAgScxWZXc",
        "colab_type": "code",
        "colab": {}
      },
      "source": [
        "from sklearn.neighbors import KNeighborsClassifier"
      ],
      "execution_count": 0,
      "outputs": []
    },
    {
      "cell_type": "code",
      "metadata": {
        "id": "r7jO3t1_WZXf",
        "colab_type": "code",
        "colab": {}
      },
      "source": [
        "from sklearn.model_selection import train_test_split as tts"
      ],
      "execution_count": 0,
      "outputs": []
    },
    {
      "cell_type": "code",
      "metadata": {
        "id": "eClHpi7jWZXh",
        "colab_type": "code",
        "colab": {}
      },
      "source": [
        "X_train, X_test, y_train, y_test = tts(X_res, y_res, test_size=0.33, random_state=42)"
      ],
      "execution_count": 0,
      "outputs": []
    },
    {
      "cell_type": "code",
      "metadata": {
        "id": "yQYAXqViWZXq",
        "colab_type": "code",
        "outputId": "3ea6f603-2908-4c2f-d543-8b8682fbe1cf",
        "colab": {
          "base_uri": "https://localhost:8080/",
          "height": 208
        }
      },
      "source": [
        "# apply grid search cv\n",
        "knn = KNeighborsClassifier(n_jobs=-1)\n",
        "knn.fit(X_train, y_train)\n",
        "y_pred = knn.predict(X_test)\n",
        "print (accuracy_score(y_test,y_pred))\n",
        "print (classification_report(y_test,y_pred))\n",
        "print (roc_auc_score(y_test,y_pred))"
      ],
      "execution_count": 0,
      "outputs": [
        {
          "output_type": "stream",
          "text": [
            "0.967937398289533\n",
            "              precision    recall  f1-score   support\n",
            "\n",
            "           0       0.98      0.95      0.97     14177\n",
            "           1       0.96      0.98      0.97     14704\n",
            "\n",
            "    accuracy                           0.97     28881\n",
            "   macro avg       0.97      0.97      0.97     28881\n",
            "weighted avg       0.97      0.97      0.97     28881\n",
            "\n",
            "0.9676587425931578\n"
          ],
          "name": "stdout"
        }
      ]
    },
    {
      "cell_type": "code",
      "metadata": {
        "id": "3m52fHJPWZXy",
        "colab_type": "code",
        "colab": {}
      },
      "source": [
        "# predicting testing data\n",
        "y_pred = knn.predict(df_test)"
      ],
      "execution_count": 0,
      "outputs": []
    },
    {
      "cell_type": "code",
      "metadata": {
        "id": "SrPc5Tt9WZX0",
        "colab_type": "code",
        "colab": {}
      },
      "source": [
        "generatecsv(\"sample_submission_knn\",y_pred)"
      ],
      "execution_count": 0,
      "outputs": []
    },
    {
      "cell_type": "code",
      "metadata": {
        "id": "YCjOeStvWZX4",
        "colab_type": "code",
        "outputId": "2c57155b-04ff-437b-97fc-203b96e9af9e",
        "colab": {
          "base_uri": "https://localhost:8080/",
          "height": 208
        }
      },
      "source": [
        "# apply grid search cv\n",
        "knn = KNeighborsClassifier()\n",
        "param = {\"n_neighbors\":np.arange(1,30,1)}\n",
        "knn_cv = GridSearchCV(estimator=knn, param_grid=param, cv=5)\n",
        "knn_cv.fit(X_train, y_train)\n",
        "y_pred = knn_cv.best_estimator_.predict(X_test)\n",
        "print (accuracy_score(y_test,y_pred))\n",
        "print (classification_report(y_test,y_pred))\n",
        "print (roc_auc_score(y_test,y_pred))"
      ],
      "execution_count": 0,
      "outputs": [
        {
          "output_type": "stream",
          "text": [
            "0.9940445275440601\n",
            "              precision    recall  f1-score   support\n",
            "\n",
            "           0       1.00      0.99      0.99     14177\n",
            "           1       0.99      1.00      0.99     14704\n",
            "\n",
            "    accuracy                           0.99     28881\n",
            "   macro avg       0.99      0.99      0.99     28881\n",
            "weighted avg       0.99      0.99      0.99     28881\n",
            "\n",
            "0.994004622730667\n"
          ],
          "name": "stdout"
        }
      ]
    },
    {
      "cell_type": "code",
      "metadata": {
        "id": "q8wOOA8yWZX7",
        "colab_type": "code",
        "colab": {}
      },
      "source": [
        "# predicting testing data\n",
        "y_pred = knn_cv.best_estimator_.predict(df_test)"
      ],
      "execution_count": 0,
      "outputs": []
    },
    {
      "cell_type": "code",
      "metadata": {
        "id": "u02HQqlIWZX-",
        "colab_type": "code",
        "colab": {}
      },
      "source": [
        "generatecsv(\"sample_submission_knn_cv\",y_pred)"
      ],
      "execution_count": 0,
      "outputs": []
    },
    {
      "cell_type": "code",
      "metadata": {
        "id": "61zOI0NsheRD",
        "colab_type": "code",
        "outputId": "dd47f5ba-2545-4f38-a325-bb151b89f2da",
        "colab": {
          "base_uri": "https://localhost:8080/",
          "height": 69
        }
      },
      "source": [
        "knn_cv.best_estimator_"
      ],
      "execution_count": 0,
      "outputs": [
        {
          "output_type": "execute_result",
          "data": {
            "text/plain": [
              "KNeighborsClassifier(algorithm='auto', leaf_size=30, metric='minkowski',\n",
              "                     metric_params=None, n_jobs=None, n_neighbors=1, p=2,\n",
              "                     weights='uniform')"
            ]
          },
          "metadata": {
            "tags": []
          },
          "execution_count": 222
        }
      ]
    },
    {
      "cell_type": "code",
      "metadata": {
        "id": "-klAot3RWZYE",
        "colab_type": "code",
        "colab": {}
      },
      "source": [
        "from sklearn.ensemble import RandomForestClassifier"
      ],
      "execution_count": 0,
      "outputs": []
    },
    {
      "cell_type": "code",
      "metadata": {
        "id": "tlBg6q-RWZYG",
        "colab_type": "code",
        "colab": {}
      },
      "source": [
        "rfc = RandomForestClassifier(random_state=42, oob_score=True)"
      ],
      "execution_count": 0,
      "outputs": []
    },
    {
      "cell_type": "code",
      "metadata": {
        "id": "QJ3Q0TbBWZYH",
        "colab_type": "code",
        "outputId": "93e588e5-cc58-4edc-f136-a40c39f20012",
        "colab": {
          "base_uri": "https://localhost:8080/",
          "height": 225
        }
      },
      "source": [
        "rfc.fit(X_train,y_train)\n",
        "y_pred = rfc.predict(X_test)\n",
        "print (accuracy_score(y_test,y_pred))\n",
        "print (classification_report(y_test,y_pred))\n",
        "print (roc_auc_score(y_test,y_pred))\n",
        "print (rfc.oob_score_)"
      ],
      "execution_count": 0,
      "outputs": [
        {
          "output_type": "stream",
          "text": [
            "0.9846265711021086\n",
            "              precision    recall  f1-score   support\n",
            "\n",
            "           0       0.98      0.98      0.98     14177\n",
            "           1       0.98      0.98      0.98     14704\n",
            "\n",
            "    accuracy                           0.98     28881\n",
            "   macro avg       0.98      0.98      0.98     28881\n",
            "weighted avg       0.98      0.98      0.98     28881\n",
            "\n",
            "0.9846214506047167\n",
            "0.9719626168224299\n"
          ],
          "name": "stdout"
        }
      ]
    },
    {
      "cell_type": "code",
      "metadata": {
        "id": "JBb19It_WZYL",
        "colab_type": "code",
        "outputId": "c583ebc0-54da-4739-9c71-35e2c7f3bbf9",
        "colab": {
          "base_uri": "https://localhost:8080/",
          "height": 202
        }
      },
      "source": [
        "df_test.head()"
      ],
      "execution_count": 0,
      "outputs": [
        {
          "output_type": "execute_result",
          "data": {
            "text/html": [
              "<div>\n",
              "<style scoped>\n",
              "    .dataframe tbody tr th:only-of-type {\n",
              "        vertical-align: middle;\n",
              "    }\n",
              "\n",
              "    .dataframe tbody tr th {\n",
              "        vertical-align: top;\n",
              "    }\n",
              "\n",
              "    .dataframe thead th {\n",
              "        text-align: right;\n",
              "    }\n",
              "</style>\n",
              "<table border=\"1\" class=\"dataframe\">\n",
              "  <thead>\n",
              "    <tr style=\"text-align: right;\">\n",
              "      <th></th>\n",
              "      <th>Duration</th>\n",
              "      <th>Net Sales</th>\n",
              "      <th>Commision (in value)</th>\n",
              "      <th>Age</th>\n",
              "    </tr>\n",
              "  </thead>\n",
              "  <tbody>\n",
              "    <tr>\n",
              "      <th>0</th>\n",
              "      <td>0.136226</td>\n",
              "      <td>0.186813</td>\n",
              "      <td>1.030038</td>\n",
              "      <td>0.673813</td>\n",
              "    </tr>\n",
              "    <tr>\n",
              "      <th>1</th>\n",
              "      <td>-0.596287</td>\n",
              "      <td>-0.438300</td>\n",
              "      <td>-0.500852</td>\n",
              "      <td>-1.348369</td>\n",
              "    </tr>\n",
              "    <tr>\n",
              "      <th>2</th>\n",
              "      <td>0.271877</td>\n",
              "      <td>-0.438300</td>\n",
              "      <td>-0.500852</td>\n",
              "      <td>-0.293318</td>\n",
              "    </tr>\n",
              "    <tr>\n",
              "      <th>3</th>\n",
              "      <td>-0.094380</td>\n",
              "      <td>-0.268778</td>\n",
              "      <td>-0.500852</td>\n",
              "      <td>-0.293318</td>\n",
              "    </tr>\n",
              "    <tr>\n",
              "      <th>4</th>\n",
              "      <td>-0.433507</td>\n",
              "      <td>-0.629012</td>\n",
              "      <td>-0.500852</td>\n",
              "      <td>-0.293318</td>\n",
              "    </tr>\n",
              "  </tbody>\n",
              "</table>\n",
              "</div>"
            ],
            "text/plain": [
              "   Duration  Net Sales  Commision (in value)       Age\n",
              "0  0.136226   0.186813              1.030038  0.673813\n",
              "1 -0.596287  -0.438300             -0.500852 -1.348369\n",
              "2  0.271877  -0.438300             -0.500852 -0.293318\n",
              "3 -0.094380  -0.268778             -0.500852 -0.293318\n",
              "4 -0.433507  -0.629012             -0.500852 -0.293318"
            ]
          },
          "metadata": {
            "tags": []
          },
          "execution_count": 216
        }
      ]
    },
    {
      "cell_type": "code",
      "metadata": {
        "id": "ijQ4u6edWZYN",
        "colab_type": "code",
        "colab": {}
      },
      "source": [
        "# predicting testing data\n",
        "y_pred = rfc.predict(df_test)"
      ],
      "execution_count": 0,
      "outputs": []
    },
    {
      "cell_type": "code",
      "metadata": {
        "id": "vH_eAFeYWZYP",
        "colab_type": "code",
        "colab": {}
      },
      "source": [
        "generatecsv(\"sample_submission_random\",y_pred)"
      ],
      "execution_count": 0,
      "outputs": []
    },
    {
      "cell_type": "code",
      "metadata": {
        "id": "ihI2SeaQWZYR",
        "colab_type": "code",
        "colab": {}
      },
      "source": [
        "def generatecsv(filename,y_pred):\n",
        "    y_pred_df = pd.DataFrame(y_pred,columns=['Claim'])\n",
        "    y_pred_df['Claim'] = y_pred_df['Claim'].astype(int)\n",
        "    random_csv_df = pd.concat([df_test_new['ID'], y_pred_df],1)\n",
        "    random_csv_df.to_csv(filename+'.csv', index=False)"
      ],
      "execution_count": 0,
      "outputs": []
    },
    {
      "cell_type": "code",
      "metadata": {
        "id": "tElP0SFPWZYT",
        "colab_type": "code",
        "colab": {}
      },
      "source": [
        ""
      ],
      "execution_count": 0,
      "outputs": []
    },
    {
      "cell_type": "code",
      "metadata": {
        "id": "Yj14s8yCWZYU",
        "colab_type": "code",
        "colab": {}
      },
      "source": [
        "#Model 1: Logistic Regression without hyperparameter and class weights in not balanced"
      ],
      "execution_count": 0,
      "outputs": []
    },
    {
      "cell_type": "code",
      "metadata": {
        "id": "6FBSusYsWZYW",
        "colab_type": "code",
        "outputId": "8bcc5abf-aedf-4eff-ce4c-074ab132d095",
        "colab": {
          "base_uri": "https://localhost:8080/",
          "height": 208
        }
      },
      "source": [
        "log_reg = LogisticRegression(random_state=42)\n",
        "log_reg.fit(X_train,y_train)\n",
        "log_reg.score(X_test,y_test)\n",
        "y_pred  = log_reg.predict(X_test)\n",
        "print (accuracy_score(y_test,y_pred))\n",
        "print (classification_report(y_test,y_pred))\n",
        "print (roc_auc_score(y_test,y_pred))"
      ],
      "execution_count": 0,
      "outputs": [
        {
          "output_type": "stream",
          "text": [
            "0.6839098369170042\n",
            "              precision    recall  f1-score   support\n",
            "\n",
            "           0       0.64      0.82      0.72     14177\n",
            "           1       0.76      0.56      0.64     14704\n",
            "\n",
            "    accuracy                           0.68     28881\n",
            "   macro avg       0.70      0.69      0.68     28881\n",
            "weighted avg       0.70      0.68      0.68     28881\n",
            "\n",
            "0.6862725932622558\n"
          ],
          "name": "stdout"
        }
      ]
    },
    {
      "cell_type": "code",
      "metadata": {
        "id": "30LbRzSoWZYY",
        "colab_type": "code",
        "colab": {}
      },
      "source": [
        "# predicting testing data\n",
        "y_pred = log_reg.predict(df_test)\n",
        "generatecsv(\"sample_submission_log_reg\",y_pred)"
      ],
      "execution_count": 0,
      "outputs": []
    },
    {
      "cell_type": "code",
      "metadata": {
        "id": "7ykBGJ_niAhf",
        "colab_type": "code",
        "colab": {}
      },
      "source": [
        "#Model 2: Logistic Regression without hyperparameter and class weights balanced"
      ],
      "execution_count": 0,
      "outputs": []
    },
    {
      "cell_type": "code",
      "metadata": {
        "id": "Eswm38BRiLS-",
        "colab_type": "code",
        "outputId": "17bafdbd-1b52-4bfb-b7c6-3fbe34c67245",
        "colab": {
          "base_uri": "https://localhost:8080/",
          "height": 208
        }
      },
      "source": [
        "log_reg = LogisticRegression(random_state=42, class_weight=\"balanced\")\n",
        "log_reg.fit(X_train,y_train)\n",
        "log_reg.score(X_test,y_test)\n",
        "y_pred  = log_reg.predict(X_test)\n",
        "print (accuracy_score(y_test,y_pred))\n",
        "print (classification_report(y_test,y_pred))\n",
        "print (roc_auc_score(y_test,y_pred))"
      ],
      "execution_count": 0,
      "outputs": [
        {
          "output_type": "stream",
          "text": [
            "0.682040095564558\n",
            "              precision    recall  f1-score   support\n",
            "\n",
            "           0       0.64      0.83      0.72     14177\n",
            "           1       0.76      0.54      0.63     14704\n",
            "\n",
            "    accuracy                           0.68     28881\n",
            "   macro avg       0.70      0.68      0.68     28881\n",
            "weighted avg       0.70      0.68      0.68     28881\n",
            "\n",
            "0.6846209080509642\n"
          ],
          "name": "stdout"
        }
      ]
    },
    {
      "cell_type": "code",
      "metadata": {
        "id": "sr-DhnuriN9M",
        "colab_type": "code",
        "colab": {}
      },
      "source": [
        "# predicting testing data\n",
        "y_pred = log_reg.predict(df_test)\n",
        "generatecsv(\"sample_submission_log_reg_balaced\",y_pred)"
      ],
      "execution_count": 0,
      "outputs": []
    },
    {
      "cell_type": "code",
      "metadata": {
        "id": "Rs4eFPcJiS2N",
        "colab_type": "code",
        "colab": {}
      },
      "source": [
        "#Model 3: Logistic Regression with hyperparameters optimized and class weights balanced"
      ],
      "execution_count": 0,
      "outputs": []
    },
    {
      "cell_type": "code",
      "metadata": {
        "id": "KoP0X8coikli",
        "colab_type": "code",
        "outputId": "f1cab29f-0947-43c2-c942-defe623856f5",
        "colab": {
          "base_uri": "https://localhost:8080/",
          "height": 225
        }
      },
      "source": [
        "params = {\"C\":np.arange(0.01,5,0.1), \n",
        "         \"penalty\":[\"l2\", \"l1\"]}\n",
        "log_reg_cv = GridSearchCV(log_reg, param_grid=params, cv = 10)\n",
        "log_reg_cv.fit(X_train,y_train)\n",
        "y_pred = log_reg_cv.best_estimator_.predict(X_test)\n",
        "print (log_reg_cv.best_params_)\n",
        "print (accuracy_score(y_test,y_pred))\n",
        "print (classification_report(y_test,y_pred))\n",
        "print (roc_auc_score(y_test,y_pred))"
      ],
      "execution_count": 0,
      "outputs": [
        {
          "output_type": "stream",
          "text": [
            "{'C': 0.21000000000000002, 'penalty': 'l1'}\n",
            "0.6819015962051176\n",
            "              precision    recall  f1-score   support\n",
            "\n",
            "           0       0.64      0.83      0.72     14177\n",
            "           1       0.76      0.54      0.63     14704\n",
            "\n",
            "    accuracy                           0.68     28881\n",
            "   macro avg       0.70      0.68      0.68     28881\n",
            "weighted avg       0.70      0.68      0.68     28881\n",
            "\n",
            "0.6844823625609167\n"
          ],
          "name": "stdout"
        }
      ]
    },
    {
      "cell_type": "code",
      "metadata": {
        "id": "GrCYqmLCioh_",
        "colab_type": "code",
        "colab": {}
      },
      "source": [
        "# predicting testing data\n",
        "y_pred = log_reg_cv.predict(df_test)\n",
        "generatecsv(\"sample_submission_log_reg_cv\",y_pred)"
      ],
      "execution_count": 0,
      "outputs": []
    },
    {
      "cell_type": "code",
      "metadata": {
        "id": "2ISboau3jJC5",
        "colab_type": "code",
        "colab": {}
      },
      "source": [
        "#Model 4: Decision tree with hyperparameters optimized and class weights balanced"
      ],
      "execution_count": 0,
      "outputs": []
    },
    {
      "cell_type": "code",
      "metadata": {
        "id": "t1RYYVFXjX3a",
        "colab_type": "code",
        "outputId": "7b6234e3-89b7-406f-c4e3-612e175f6e14",
        "colab": {
          "base_uri": "https://localhost:8080/",
          "height": 225
        }
      },
      "source": [
        "dtc = DecisionTreeClassifier(random_state=42)\n",
        "params = {\"criterion\":[\"gini\", \"entropy\"], \n",
        "         \"max_depth\":np.arange(4,20,1), \n",
        "         \"min_samples_split\":np.arange(2, 6, 2)}\n",
        "dtc_cv = GridSearchCV(dtc, param_grid=params, cv = 5)\n",
        "dtc_cv.fit(X_train,y_train)\n",
        "y_pred = dtc_cv.best_estimator_.predict(X_test)\n",
        "print (dtc_cv.best_params_)\n",
        "print (accuracy_score(y_test,y_pred))\n",
        "print (classification_report(y_test,y_pred))\n",
        "print (roc_auc_score(y_test,y_pred))"
      ],
      "execution_count": 0,
      "outputs": [
        {
          "output_type": "stream",
          "text": [
            "{'criterion': 'entropy', 'max_depth': 29, 'min_samples_split': 2}\n",
            "0.9750354904608566\n",
            "              precision    recall  f1-score   support\n",
            "\n",
            "           0       0.97      0.98      0.97     14177\n",
            "           1       0.98      0.97      0.98     14704\n",
            "\n",
            "    accuracy                           0.98     28881\n",
            "   macro avg       0.97      0.98      0.98     28881\n",
            "weighted avg       0.98      0.98      0.98     28881\n",
            "\n",
            "0.9750985936738098\n"
          ],
          "name": "stdout"
        }
      ]
    },
    {
      "cell_type": "code",
      "metadata": {
        "id": "_50KyUOCjcgV",
        "colab_type": "code",
        "colab": {}
      },
      "source": [
        "# predicting testing data\n",
        "y_pred = dtc_cv.best_estimator_.predict(df_test)\n",
        "generatecsv(\"sample_submission_dtc_cv_v1\",y_pred)\n",
        "# test accuracy 0.69"
      ],
      "execution_count": 0,
      "outputs": []
    },
    {
      "cell_type": "code",
      "metadata": {
        "id": "jWRo714ILrMc",
        "colab_type": "code",
        "outputId": "08efe430-9314-4a16-887c-fca8213a3a46",
        "colab": {
          "base_uri": "https://localhost:8080/",
          "height": 121
        }
      },
      "source": [
        "dtc_cv.best_estimator_"
      ],
      "execution_count": 0,
      "outputs": [
        {
          "output_type": "execute_result",
          "data": {
            "text/plain": [
              "DecisionTreeClassifier(class_weight=None, criterion='entropy', max_depth=29,\n",
              "                       max_features=None, max_leaf_nodes=None,\n",
              "                       min_impurity_decrease=0.0, min_impurity_split=None,\n",
              "                       min_samples_leaf=1, min_samples_split=2,\n",
              "                       min_weight_fraction_leaf=0.0, presort=False,\n",
              "                       random_state=42, splitter='best')"
            ]
          },
          "metadata": {
            "tags": []
          },
          "execution_count": 118
        }
      ]
    },
    {
      "cell_type": "code",
      "metadata": {
        "id": "ONN3rUVgPaOk",
        "colab_type": "code",
        "colab": {}
      },
      "source": [
        "#Model 5: Random Forest with no hyperparameter optmized"
      ],
      "execution_count": 0,
      "outputs": []
    },
    {
      "cell_type": "code",
      "metadata": {
        "id": "Kg5DFR9WPkB7",
        "colab_type": "code",
        "outputId": "ce6ad031-b739-4460-8565-6b6b19c74973",
        "colab": {
          "base_uri": "https://localhost:8080/",
          "height": 225
        }
      },
      "source": [
        "rfc = RandomForestClassifier(random_state=42, oob_score=True,max_depth=10,min_samples_split=4)\n",
        "rfc.fit(X_train,y_train)\n",
        "y_pred = rfc.predict(X_test)\n",
        "print (accuracy_score(y_test,y_pred))\n",
        "print (classification_report(y_test,y_pred))\n",
        "print (roc_auc_score(y_test,y_pred))\n",
        "print (rfc.oob_score_)"
      ],
      "execution_count": 0,
      "outputs": [
        {
          "output_type": "stream",
          "text": [
            "0.9034659464699976\n",
            "              precision    recall  f1-score   support\n",
            "\n",
            "           0       0.91      0.89      0.90     14177\n",
            "           1       0.90      0.91      0.91     14704\n",
            "\n",
            "    accuracy                           0.90     28881\n",
            "   macro avg       0.90      0.90      0.90     28881\n",
            "weighted avg       0.90      0.90      0.90     28881\n",
            "\n",
            "0.9033124456055085\n",
            "0.8944334538508766\n"
          ],
          "name": "stdout"
        }
      ]
    },
    {
      "cell_type": "code",
      "metadata": {
        "id": "PKtIHQCNPs6i",
        "colab_type": "code",
        "colab": {}
      },
      "source": [
        "# predicting testing data\n",
        "y_pred = rfc.predict(df_test)\n",
        "generatecsv(\"sample_submission_rfc\",y_pred)"
      ],
      "execution_count": 0,
      "outputs": []
    },
    {
      "cell_type": "code",
      "metadata": {
        "id": "DCg862w4PyD3",
        "colab_type": "code",
        "colab": {}
      },
      "source": [
        "#Model 5: Random Forest with no hyperparameter optmized"
      ],
      "execution_count": 0,
      "outputs": []
    },
    {
      "cell_type": "code",
      "metadata": {
        "id": "3JVAkCVGQE2S",
        "colab_type": "code",
        "outputId": "0b6329f0-ab04-4bea-99b2-f5f00a87ed99",
        "colab": {
          "base_uri": "https://localhost:8080/",
          "height": 208
        }
      },
      "source": [
        "rfc = RandomForestClassifier(random_state=42, oob_score=True,min_samples_split=4)\n",
        "params = {\"criterion\":[\"gini\", \"entropy\"],\"max_depth\":np.arange(4,11,1)}\n",
        "rfc_cv = GridSearchCV(rfc, param_grid=params, cv = 10)\n",
        "rfc_cv.fit(X_train,y_train)\n",
        "y_pred = rfc_cv.best_estimator_.predict(X_test)\n",
        "print (rfc_cv.best_params_)\n",
        "print (classification_report(y_test,y_pred))\n",
        "print (roc_auc_score(y_test,y_pred))"
      ],
      "execution_count": 0,
      "outputs": [
        {
          "output_type": "stream",
          "text": [
            "{'criterion': 'gini', 'max_depth': 10}\n",
            "              precision    recall  f1-score   support\n",
            "\n",
            "           0       0.91      0.89      0.90     14177\n",
            "           1       0.90      0.91      0.91     14704\n",
            "\n",
            "    accuracy                           0.90     28881\n",
            "   macro avg       0.90      0.90      0.90     28881\n",
            "weighted avg       0.90      0.90      0.90     28881\n",
            "\n",
            "0.9033124456055085\n"
          ],
          "name": "stdout"
        }
      ]
    },
    {
      "cell_type": "code",
      "metadata": {
        "id": "ROl9GKDuQJFq",
        "colab_type": "code",
        "colab": {}
      },
      "source": [
        "# predicting testing data\n",
        "y_pred = rfc_cv.best_estimator_.predict(df_test)\n",
        "generatecsv(\"sample_submission_rfc_cv\",y_pred)\n",
        "# test accuracy 0.74"
      ],
      "execution_count": 0,
      "outputs": []
    },
    {
      "cell_type": "code",
      "metadata": {
        "id": "j59cvWG-tgeb",
        "colab_type": "code",
        "outputId": "e9a68576-9ac7-4417-a71f-bd2645d7da6f",
        "colab": {
          "base_uri": "https://localhost:8080/",
          "height": 139
        }
      },
      "source": [
        "rfc_cv.best_estimator_"
      ],
      "execution_count": 0,
      "outputs": [
        {
          "output_type": "execute_result",
          "data": {
            "text/plain": [
              "RandomForestClassifier(bootstrap=True, class_weight=None, criterion='gini',\n",
              "                       max_depth=10, max_features='auto', max_leaf_nodes=None,\n",
              "                       min_impurity_decrease=0.0, min_impurity_split=None,\n",
              "                       min_samples_leaf=1, min_samples_split=4,\n",
              "                       min_weight_fraction_leaf=0.0, n_estimators=10,\n",
              "                       n_jobs=None, oob_score=True, random_state=42, verbose=0,\n",
              "                       warm_start=False)"
            ]
          },
          "metadata": {
            "tags": []
          },
          "execution_count": 158
        }
      ]
    },
    {
      "cell_type": "code",
      "metadata": {
        "id": "yoK5WuY0QQb-",
        "colab_type": "code",
        "colab": {}
      },
      "source": [
        "#Model 6 Adaboost with Decision tree"
      ],
      "execution_count": 0,
      "outputs": []
    },
    {
      "cell_type": "code",
      "metadata": {
        "id": "fPmuaojhQqAe",
        "colab_type": "code",
        "colab": {}
      },
      "source": [
        "from sklearn.ensemble import AdaBoostClassifier, GradientBoostingClassifier\n",
        "adb = AdaBoostClassifier()\n",
        "gdb = GradientBoostingClassifier()"
      ],
      "execution_count": 0,
      "outputs": []
    },
    {
      "cell_type": "code",
      "metadata": {
        "id": "54K_mImHQtJ4",
        "colab_type": "code",
        "outputId": "b2c1ed80-4815-4b0a-ce2c-30c4e0985631",
        "colab": {
          "base_uri": "https://localhost:8080/",
          "height": 208
        }
      },
      "source": [
        "dtc = DecisionTreeClassifier(random_state=42,max_depth=10,min_samples_leaf=4)\n",
        "adb = AdaBoostClassifier(base_estimator=dtc, n_estimators=50,random_state=42,learning_rate=0.5)\n",
        "\n",
        "adb.fit(X_train,y_train)\n",
        "y_pred = adb.predict(X_test)\n",
        "print (accuracy_score(y_test,y_pred))\n",
        "print (classification_report(y_test,y_pred))\n",
        "print (roc_auc_score(y_test,y_pred))"
      ],
      "execution_count": 0,
      "outputs": [
        {
          "output_type": "stream",
          "text": [
            "0.9920362868321734\n",
            "              precision    recall  f1-score   support\n",
            "\n",
            "           0       0.99      0.99      0.99     14177\n",
            "           1       0.99      0.99      0.99     14704\n",
            "\n",
            "    accuracy                           0.99     28881\n",
            "   macro avg       0.99      0.99      0.99     28881\n",
            "weighted avg       0.99      0.99      0.99     28881\n",
            "\n",
            "0.9920386904819014\n"
          ],
          "name": "stdout"
        }
      ]
    },
    {
      "cell_type": "code",
      "metadata": {
        "id": "9lVYtjB4QwJE",
        "colab_type": "code",
        "colab": {}
      },
      "source": [
        "# predicting testing data\n",
        "y_pred = adb.predict(df_test)\n",
        "generatecsv(\"sample_submission_adb_v1\",y_pred)\n",
        "#test accuracy 0.76"
      ],
      "execution_count": 0,
      "outputs": []
    },
    {
      "cell_type": "code",
      "metadata": {
        "id": "K6BybamPRHe6",
        "colab_type": "code",
        "outputId": "8f5da361-e4f9-41f6-bd2b-c7277b257e12",
        "colab": {
          "base_uri": "https://localhost:8080/",
          "height": 208
        }
      },
      "source": [
        "# adaboost default\n",
        "adb = AdaBoostClassifier(n_estimators=50,random_state=42,learning_rate=0.3)\n",
        "\n",
        "adb.fit(X_train,y_train)\n",
        "y_pred = adb.predict(X_test)\n",
        "print (accuracy_score(y_test,y_pred))\n",
        "print (classification_report(y_test,y_pred))\n",
        "print (roc_auc_score(y_test,y_pred))"
      ],
      "execution_count": 0,
      "outputs": [
        {
          "output_type": "stream",
          "text": [
            "0.8014611682420969\n",
            "              precision    recall  f1-score   support\n",
            "\n",
            "           0       0.81      0.78      0.79     14177\n",
            "           1       0.79      0.83      0.81     14704\n",
            "\n",
            "    accuracy                           0.80     28881\n",
            "   macro avg       0.80      0.80      0.80     28881\n",
            "weighted avg       0.80      0.80      0.80     28881\n",
            "\n",
            "0.8010170920838156\n"
          ],
          "name": "stdout"
        }
      ]
    },
    {
      "cell_type": "code",
      "metadata": {
        "id": "V3Wm8LciRmj2",
        "colab_type": "code",
        "colab": {}
      },
      "source": [
        "# predicting testing data\n",
        "y_pred = adb.predict(df_test)\n",
        "generatecsv(\"sample_submission_adb_v5\",y_pred)\n",
        "#test accuracy 0.75"
      ],
      "execution_count": 0,
      "outputs": []
    },
    {
      "cell_type": "code",
      "metadata": {
        "id": "ALQdRB4qRpu0",
        "colab_type": "code",
        "outputId": "2d54bce4-e86f-411f-994c-11b40220c158",
        "colab": {
          "base_uri": "https://localhost:8080/",
          "height": 208
        }
      },
      "source": [
        "rfc = RandomForestClassifier(bootstrap=True, class_weight=None, criterion='gini',\n",
        "                       max_depth=10, max_features='auto', max_leaf_nodes=None,\n",
        "                       min_impurity_decrease=0.0, min_impurity_split=None,\n",
        "                       min_samples_leaf=1, min_samples_split=4,\n",
        "                       min_weight_fraction_leaf=0.0, n_estimators=10,\n",
        "                       n_jobs=None, oob_score=True, random_state=42, verbose=0,\n",
        "                       warm_start=False)\n",
        "adb = AdaBoostClassifier(base_estimator=rfc,n_estimators=20,random_state=42,learning_rate=0.9)\n",
        "\n",
        "adb.fit(X_train,y_train)\n",
        "y_pred = adb.predict(X_test)\n",
        "print (accuracy_score(y_test,y_pred))\n",
        "print (classification_report(y_test,y_pred))\n",
        "print (roc_auc_score(y_test,y_pred))"
      ],
      "execution_count": 0,
      "outputs": [
        {
          "output_type": "stream",
          "text": [
            "0.9889893009244832\n",
            "              precision    recall  f1-score   support\n",
            "\n",
            "           0       0.99      0.99      0.99     14177\n",
            "           1       0.99      0.99      0.99     14704\n",
            "\n",
            "    accuracy                           0.99     28881\n",
            "   macro avg       0.99      0.99      0.99     28881\n",
            "weighted avg       0.99      0.99      0.99     28881\n",
            "\n",
            "0.9889767852618493\n"
          ],
          "name": "stdout"
        }
      ]
    },
    {
      "cell_type": "code",
      "metadata": {
        "id": "XLdtLXgXR41s",
        "colab_type": "code",
        "colab": {}
      },
      "source": [
        "# predicting testing data\n",
        "y_pred = adb.predict(df_test)\n",
        "generatecsv(\"sample_submission_adb_v12\",y_pred)\n",
        "#test accuracy 0.86"
      ],
      "execution_count": 0,
      "outputs": []
    },
    {
      "cell_type": "code",
      "metadata": {
        "id": "IfR2nv7ySFTg",
        "colab_type": "code",
        "outputId": "87012c71-49c4-4d06-9725-824699ad69e1",
        "colab": {
          "base_uri": "https://localhost:8080/",
          "height": 208
        }
      },
      "source": [
        "# adaboost default\n",
        "gdb = GradientBoostingClassifier(learning_rate=0.5,n_estimators=100,min_samples_split=4)\n",
        "gdb.fit(X_train,y_train)\n",
        "y_pred = gdb.predict(X_test)\n",
        "print (accuracy_score(y_test,y_pred))\n",
        "print (classification_report(y_test,y_pred))\n",
        "print (roc_auc_score(y_test,y_pred))"
      ],
      "execution_count": 0,
      "outputs": [
        {
          "output_type": "stream",
          "text": [
            "0.9440462587860531\n",
            "              precision    recall  f1-score   support\n",
            "\n",
            "           0       0.94      0.94      0.94     14177\n",
            "           1       0.94      0.95      0.95     14704\n",
            "\n",
            "    accuracy                           0.94     28881\n",
            "   macro avg       0.94      0.94      0.94     28881\n",
            "weighted avg       0.94      0.94      0.94     28881\n",
            "\n",
            "0.9440225658611324\n"
          ],
          "name": "stdout"
        }
      ]
    },
    {
      "cell_type": "code",
      "metadata": {
        "id": "TKBMh45nSsnI",
        "colab_type": "code",
        "colab": {}
      },
      "source": [
        "# predicting testing data\n",
        "y_pred = gdb.predict(df_test)\n",
        "generatecsv(\"sample_submission_gdb_v2\",y_pred)\n",
        "#test accuracy 0.92"
      ],
      "execution_count": 0,
      "outputs": []
    },
    {
      "cell_type": "code",
      "metadata": {
        "id": "f8Kl5ySVyRSN",
        "colab_type": "code",
        "outputId": "88cf05c0-312b-4134-f8e5-b331084c941e",
        "colab": {
          "base_uri": "https://localhost:8080/",
          "height": 208
        }
      },
      "source": [
        "# adaboost default\n",
        "gdb = GradientBoostingClassifier(learning_rate=0.7,n_estimators=150,min_samples_split=4)\n",
        "gdb.fit(X_train,y_train)\n",
        "y_pred = gdb.predict(X_test)\n",
        "print (accuracy_score(y_test,y_pred))\n",
        "print (classification_report(y_test,y_pred))\n",
        "print (roc_auc_score(y_test,y_pred))"
      ],
      "execution_count": 0,
      "outputs": [
        {
          "output_type": "stream",
          "text": [
            "0.9756587375783387\n",
            "              precision    recall  f1-score   support\n",
            "\n",
            "           0       0.97      0.98      0.98     14177\n",
            "           1       0.98      0.97      0.98     14704\n",
            "\n",
            "    accuracy                           0.98     28881\n",
            "   macro avg       0.98      0.98      0.98     28881\n",
            "weighted avg       0.98      0.98      0.98     28881\n",
            "\n",
            "0.9756828631418282\n"
          ],
          "name": "stdout"
        }
      ]
    },
    {
      "cell_type": "code",
      "metadata": {
        "id": "nf4vtjWnyRkx",
        "colab_type": "code",
        "colab": {}
      },
      "source": [
        "# predicting testing data\n",
        "y_pred = gdb.predict(df_test)\n",
        "generatecsv(\"sample_submission_gdb_v3\",y_pred)\n",
        "#test accuracy 0.95"
      ],
      "execution_count": 0,
      "outputs": []
    },
    {
      "cell_type": "code",
      "metadata": {
        "id": "vJccPkCpyrij",
        "colab_type": "code",
        "outputId": "8ee50f43-eb55-46fb-dae6-563837e2d9d1",
        "colab": {
          "base_uri": "https://localhost:8080/",
          "height": 208
        }
      },
      "source": [
        "# adaboost default\n",
        "gdb = GradientBoostingClassifier(learning_rate=0.7,n_estimators=150,min_samples_split=6)\n",
        "gdb.fit(X_train,y_train)\n",
        "y_pred = gdb.predict(X_test)\n",
        "print (accuracy_score(y_test,y_pred))\n",
        "print (classification_report(y_test,y_pred))\n",
        "print (roc_auc_score(y_test,y_pred))"
      ],
      "execution_count": 0,
      "outputs": [
        {
          "output_type": "stream",
          "text": [
            "0.9752432395000173\n",
            "              precision    recall  f1-score   support\n",
            "\n",
            "           0       0.97      0.98      0.97     14177\n",
            "           1       0.98      0.97      0.98     14704\n",
            "\n",
            "    accuracy                           0.98     28881\n",
            "   macro avg       0.98      0.98      0.98     28881\n",
            "weighted avg       0.98      0.98      0.98     28881\n",
            "\n",
            "0.9752710187914139\n"
          ],
          "name": "stdout"
        }
      ]
    },
    {
      "cell_type": "code",
      "metadata": {
        "id": "2i9pcenPyrul",
        "colab_type": "code",
        "colab": {}
      },
      "source": [
        "# predicting testing data\n",
        "y_pred = gdb.predict(df_test)\n",
        "generatecsv(\"sample_submission_gdb_v4\",y_pred)\n",
        "#test accuracy 0.96"
      ],
      "execution_count": 0,
      "outputs": []
    },
    {
      "cell_type": "code",
      "metadata": {
        "id": "hnAGoD1YzAfz",
        "colab_type": "code",
        "outputId": "8c0515e5-fef5-4d78-bf7a-a33b7eec2b33",
        "colab": {
          "base_uri": "https://localhost:8080/",
          "height": 208
        }
      },
      "source": [
        "# adaboost default\n",
        "gdb = GradientBoostingClassifier(learning_rate=0.7,n_estimators=150,min_samples_split=10)\n",
        "gdb.fit(X_train,y_train)\n",
        "y_pred = gdb.predict(X_test)\n",
        "print (accuracy_score(y_test,y_pred))\n",
        "print (classification_report(y_test,y_pred))\n",
        "print (roc_auc_score(y_test,y_pred))"
      ],
      "execution_count": 0,
      "outputs": [
        {
          "output_type": "stream",
          "text": [
            "0.9768359821335826\n",
            "              precision    recall  f1-score   support\n",
            "\n",
            "           0       0.97      0.98      0.98     14177\n",
            "           1       0.98      0.98      0.98     14704\n",
            "\n",
            "    accuracy                           0.98     28881\n",
            "   macro avg       0.98      0.98      0.98     28881\n",
            "weighted avg       0.98      0.98      0.98     28881\n",
            "\n",
            "0.9768604998072328\n"
          ],
          "name": "stdout"
        }
      ]
    },
    {
      "cell_type": "code",
      "metadata": {
        "id": "Yekts1gOzAr9",
        "colab_type": "code",
        "colab": {}
      },
      "source": [
        "# predicting testing data\n",
        "y_pred = gdb.predict(df_test)\n",
        "generatecsv(\"sample_submission_gdb_v6\",y_pred)\n",
        "#test accuracy 0.97"
      ],
      "execution_count": 0,
      "outputs": []
    },
    {
      "cell_type": "code",
      "metadata": {
        "id": "FXO-mr1MzfXM",
        "colab_type": "code",
        "outputId": "9f71afbf-6e85-40b3-b925-850e78ee503d",
        "colab": {
          "base_uri": "https://localhost:8080/",
          "height": 208
        }
      },
      "source": [
        "# adaboost default\n",
        "gdb = GradientBoostingClassifier(learning_rate=0.9,n_estimators=150,min_samples_split=10)\n",
        "gdb.fit(X_train,y_train)\n",
        "y_pred = gdb.predict(X_test)\n",
        "print (accuracy_score(y_test,y_pred))\n",
        "print (classification_report(y_test,y_pred))\n",
        "print (roc_auc_score(y_test,y_pred))"
      ],
      "execution_count": 0,
      "outputs": [
        {
          "output_type": "stream",
          "text": [
            "0.9781171012084069\n",
            "              precision    recall  f1-score   support\n",
            "\n",
            "           0       0.98      0.98      0.98     14177\n",
            "           1       0.98      0.98      0.98     14704\n",
            "\n",
            "    accuracy                           0.98     28881\n",
            "   macro avg       0.98      0.98      0.98     28881\n",
            "weighted avg       0.98      0.98      0.98     28881\n",
            "\n",
            "0.9781237170114846\n"
          ],
          "name": "stdout"
        }
      ]
    },
    {
      "cell_type": "code",
      "metadata": {
        "id": "Wtng2vbCzfiu",
        "colab_type": "code",
        "colab": {}
      },
      "source": [
        "# predicting testing data\n",
        "y_pred = gdb.predict(df_test)\n",
        "generatecsv(\"sample_submission_gdb_v4\",y_pred)\n",
        "#test accuracy 0.97"
      ],
      "execution_count": 0,
      "outputs": []
    },
    {
      "cell_type": "code",
      "metadata": {
        "id": "e1XYB7BPSyZD",
        "colab_type": "code",
        "outputId": "1fb3627d-99ab-4907-e21c-9e4a6d8c195a",
        "colab": {
          "base_uri": "https://localhost:8080/",
          "height": 208
        }
      },
      "source": [
        "gdb = GradientBoostingClassifier()\n",
        "params = {\"learning_rate\":np.arange(0.1, 0.8, 0.1),\"n_estimators\":[150],\"min_samples_split\":np.arange(2, 12, 2)}\n",
        "gdb_cv = GridSearchCV(gdb, param_grid=params, cv = 5)\n",
        "gdb_cv.fit(X_train,y_train)\n",
        "y_pred = gdb_cv.best_estimator_.predict(X_test)\n",
        "print (accuracy_score(y_test,y_pred))\n",
        "print (classification_report(y_test,y_pred))\n",
        "print (roc_auc_score(y_test,y_pred))"
      ],
      "execution_count": 0,
      "outputs": [
        {
          "output_type": "stream",
          "text": [
            "0.9624666735916346\n",
            "              precision    recall  f1-score   support\n",
            "\n",
            "           0       0.96      0.96      0.96     14177\n",
            "           1       0.96      0.96      0.96     14704\n",
            "\n",
            "    accuracy                           0.96     28881\n",
            "   macro avg       0.96      0.96      0.96     28881\n",
            "weighted avg       0.96      0.96      0.96     28881\n",
            "\n",
            "0.9624529081571915\n"
          ],
          "name": "stdout"
        }
      ]
    },
    {
      "cell_type": "code",
      "metadata": {
        "id": "B9Vnd7HmTM5V",
        "colab_type": "code",
        "colab": {}
      },
      "source": [
        " # predicting testing data\n",
        "y_pred = gdb_cv.best_estimator_.predict(df_test)\n",
        "generatecsv(\"sample_submission_gdb_v2\",y_pred)\n",
        "#test accuracy 0.96"
      ],
      "execution_count": 0,
      "outputs": []
    },
    {
      "cell_type": "code",
      "metadata": {
        "id": "HzhkHYHHZ75h",
        "colab_type": "code",
        "outputId": "67aaf414-bb49-4d9c-e9d5-45726b35e843",
        "colab": {
          "base_uri": "https://localhost:8080/",
          "height": 191
        }
      },
      "source": [
        "gdb_cv.best_estimator_"
      ],
      "execution_count": 0,
      "outputs": [
        {
          "output_type": "execute_result",
          "data": {
            "text/plain": [
              "GradientBoostingClassifier(criterion='friedman_mse', init=None,\n",
              "                           learning_rate=0.7000000000000001, loss='deviance',\n",
              "                           max_depth=3, max_features=None, max_leaf_nodes=None,\n",
              "                           min_impurity_decrease=0.0, min_impurity_split=None,\n",
              "                           min_samples_leaf=1, min_samples_split=10,\n",
              "                           min_weight_fraction_leaf=0.0, n_estimators=100,\n",
              "                           n_iter_no_change=None, presort='auto',\n",
              "                           random_state=None, subsample=1.0, tol=0.0001,\n",
              "                           validation_fraction=0.1, verbose=0,\n",
              "                           warm_start=False)"
            ]
          },
          "metadata": {
            "tags": []
          },
          "execution_count": 214
        }
      ]
    },
    {
      "cell_type": "code",
      "metadata": {
        "id": "8RhQeMgNZ1-M",
        "colab_type": "code",
        "colab": {}
      },
      "source": [
        ""
      ],
      "execution_count": 0,
      "outputs": []
    },
    {
      "cell_type": "code",
      "metadata": {
        "id": "xs5VeeNlZZuF",
        "colab_type": "code",
        "colab": {}
      },
      "source": [
        ""
      ],
      "execution_count": 0,
      "outputs": []
    }
  ]
}